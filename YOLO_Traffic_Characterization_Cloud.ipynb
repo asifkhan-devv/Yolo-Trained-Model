{
  "cells": [
    {
      "cell_type": "code",
      "execution_count": null,
      "metadata": {
        "colab": {
          "base_uri": "https://localhost:8080/",
          "height": 56
        },
        "id": "aHWwG3IedlIy",
        "outputId": "d2b0b406-f5b8-414f-c7f1-ae5a38ac1774"
      },
      "outputs": [
        {
          "output_type": "display_data",
          "data": {
            "text/plain": [
              "<IPython.core.display.HTML object>"
            ],
            "text/html": [
              "\n",
              "     <input type=\"file\" id=\"files-7ee6261f-1f4e-41ae-9eff-6a90b8d49359\" name=\"files[]\" multiple disabled\n",
              "        style=\"border:none\" />\n",
              "     <output id=\"result-7ee6261f-1f4e-41ae-9eff-6a90b8d49359\">\n",
              "      Upload widget is only available when the cell has been executed in the\n",
              "      current browser session. Please rerun this cell to enable.\n",
              "      </output>\n",
              "      <script>// Copyright 2017 Google LLC\n",
              "//\n",
              "// Licensed under the Apache License, Version 2.0 (the \"License\");\n",
              "// you may not use this file except in compliance with the License.\n",
              "// You may obtain a copy of the License at\n",
              "//\n",
              "//      http://www.apache.org/licenses/LICENSE-2.0\n",
              "//\n",
              "// Unless required by applicable law or agreed to in writing, software\n",
              "// distributed under the License is distributed on an \"AS IS\" BASIS,\n",
              "// WITHOUT WARRANTIES OR CONDITIONS OF ANY KIND, either express or implied.\n",
              "// See the License for the specific language governing permissions and\n",
              "// limitations under the License.\n",
              "\n",
              "/**\n",
              " * @fileoverview Helpers for google.colab Python module.\n",
              " */\n",
              "(function(scope) {\n",
              "function span(text, styleAttributes = {}) {\n",
              "  const element = document.createElement('span');\n",
              "  element.textContent = text;\n",
              "  for (const key of Object.keys(styleAttributes)) {\n",
              "    element.style[key] = styleAttributes[key];\n",
              "  }\n",
              "  return element;\n",
              "}\n",
              "\n",
              "// Max number of bytes which will be uploaded at a time.\n",
              "const MAX_PAYLOAD_SIZE = 100 * 1024;\n",
              "\n",
              "function _uploadFiles(inputId, outputId) {\n",
              "  const steps = uploadFilesStep(inputId, outputId);\n",
              "  const outputElement = document.getElementById(outputId);\n",
              "  // Cache steps on the outputElement to make it available for the next call\n",
              "  // to uploadFilesContinue from Python.\n",
              "  outputElement.steps = steps;\n",
              "\n",
              "  return _uploadFilesContinue(outputId);\n",
              "}\n",
              "\n",
              "// This is roughly an async generator (not supported in the browser yet),\n",
              "// where there are multiple asynchronous steps and the Python side is going\n",
              "// to poll for completion of each step.\n",
              "// This uses a Promise to block the python side on completion of each step,\n",
              "// then passes the result of the previous step as the input to the next step.\n",
              "function _uploadFilesContinue(outputId) {\n",
              "  const outputElement = document.getElementById(outputId);\n",
              "  const steps = outputElement.steps;\n",
              "\n",
              "  const next = steps.next(outputElement.lastPromiseValue);\n",
              "  return Promise.resolve(next.value.promise).then((value) => {\n",
              "    // Cache the last promise value to make it available to the next\n",
              "    // step of the generator.\n",
              "    outputElement.lastPromiseValue = value;\n",
              "    return next.value.response;\n",
              "  });\n",
              "}\n",
              "\n",
              "/**\n",
              " * Generator function which is called between each async step of the upload\n",
              " * process.\n",
              " * @param {string} inputId Element ID of the input file picker element.\n",
              " * @param {string} outputId Element ID of the output display.\n",
              " * @return {!Iterable<!Object>} Iterable of next steps.\n",
              " */\n",
              "function* uploadFilesStep(inputId, outputId) {\n",
              "  const inputElement = document.getElementById(inputId);\n",
              "  inputElement.disabled = false;\n",
              "\n",
              "  const outputElement = document.getElementById(outputId);\n",
              "  outputElement.innerHTML = '';\n",
              "\n",
              "  const pickedPromise = new Promise((resolve) => {\n",
              "    inputElement.addEventListener('change', (e) => {\n",
              "      resolve(e.target.files);\n",
              "    });\n",
              "  });\n",
              "\n",
              "  const cancel = document.createElement('button');\n",
              "  inputElement.parentElement.appendChild(cancel);\n",
              "  cancel.textContent = 'Cancel upload';\n",
              "  const cancelPromise = new Promise((resolve) => {\n",
              "    cancel.onclick = () => {\n",
              "      resolve(null);\n",
              "    };\n",
              "  });\n",
              "\n",
              "  // Wait for the user to pick the files.\n",
              "  const files = yield {\n",
              "    promise: Promise.race([pickedPromise, cancelPromise]),\n",
              "    response: {\n",
              "      action: 'starting',\n",
              "    }\n",
              "  };\n",
              "\n",
              "  cancel.remove();\n",
              "\n",
              "  // Disable the input element since further picks are not allowed.\n",
              "  inputElement.disabled = true;\n",
              "\n",
              "  if (!files) {\n",
              "    return {\n",
              "      response: {\n",
              "        action: 'complete',\n",
              "      }\n",
              "    };\n",
              "  }\n",
              "\n",
              "  for (const file of files) {\n",
              "    const li = document.createElement('li');\n",
              "    li.append(span(file.name, {fontWeight: 'bold'}));\n",
              "    li.append(span(\n",
              "        `(${file.type || 'n/a'}) - ${file.size} bytes, ` +\n",
              "        `last modified: ${\n",
              "            file.lastModifiedDate ? file.lastModifiedDate.toLocaleDateString() :\n",
              "                                    'n/a'} - `));\n",
              "    const percent = span('0% done');\n",
              "    li.appendChild(percent);\n",
              "\n",
              "    outputElement.appendChild(li);\n",
              "\n",
              "    const fileDataPromise = new Promise((resolve) => {\n",
              "      const reader = new FileReader();\n",
              "      reader.onload = (e) => {\n",
              "        resolve(e.target.result);\n",
              "      };\n",
              "      reader.readAsArrayBuffer(file);\n",
              "    });\n",
              "    // Wait for the data to be ready.\n",
              "    let fileData = yield {\n",
              "      promise: fileDataPromise,\n",
              "      response: {\n",
              "        action: 'continue',\n",
              "      }\n",
              "    };\n",
              "\n",
              "    // Use a chunked sending to avoid message size limits. See b/62115660.\n",
              "    let position = 0;\n",
              "    do {\n",
              "      const length = Math.min(fileData.byteLength - position, MAX_PAYLOAD_SIZE);\n",
              "      const chunk = new Uint8Array(fileData, position, length);\n",
              "      position += length;\n",
              "\n",
              "      const base64 = btoa(String.fromCharCode.apply(null, chunk));\n",
              "      yield {\n",
              "        response: {\n",
              "          action: 'append',\n",
              "          file: file.name,\n",
              "          data: base64,\n",
              "        },\n",
              "      };\n",
              "\n",
              "      let percentDone = fileData.byteLength === 0 ?\n",
              "          100 :\n",
              "          Math.round((position / fileData.byteLength) * 100);\n",
              "      percent.textContent = `${percentDone}% done`;\n",
              "\n",
              "    } while (position < fileData.byteLength);\n",
              "  }\n",
              "\n",
              "  // All done.\n",
              "  yield {\n",
              "    response: {\n",
              "      action: 'complete',\n",
              "    }\n",
              "  };\n",
              "}\n",
              "\n",
              "scope.google = scope.google || {};\n",
              "scope.google.colab = scope.google.colab || {};\n",
              "scope.google.colab._files = {\n",
              "  _uploadFiles,\n",
              "  _uploadFilesContinue,\n",
              "};\n",
              "})(self);\n",
              "</script> "
            ]
          },
          "metadata": {}
        },
        {
          "output_type": "execute_result",
          "data": {
            "text/plain": [
              "{}"
            ]
          },
          "metadata": {},
          "execution_count": 3
        }
      ],
      "source": [
        "from google.colab import files\n",
        "files.upload()"
      ]
    },
    {
      "cell_type": "code",
      "execution_count": null,
      "metadata": {
        "id": "zStbGRwddl-o"
      },
      "outputs": [],
      "source": [
        "!pip install -q kaggle"
      ]
    },
    {
      "cell_type": "code",
      "execution_count": null,
      "metadata": {
        "id": "k4LHMl9udsBl"
      },
      "outputs": [],
      "source": [
        "!mkdir -p ~/.kaggle"
      ]
    },
    {
      "cell_type": "code",
      "execution_count": null,
      "metadata": {
        "id": "cyNAgtvqd9To",
        "colab": {
          "base_uri": "https://localhost:8080/"
        },
        "outputId": "3cab14d9-0a99-4d8f-bf9f-a49826521146"
      },
      "outputs": [
        {
          "output_type": "stream",
          "name": "stdout",
          "text": [
            "cp: cannot stat 'kaggle.json': No such file or directory\n"
          ]
        }
      ],
      "source": [
        "!cp kaggle.json ~/.kaggle/\n",
        "\n"
      ]
    },
    {
      "cell_type": "code",
      "source": [
        "!chmod 600 /root/.kaggle/kaggle.json"
      ],
      "metadata": {
        "id": "sYVkNzXnYsly",
        "colab": {
          "base_uri": "https://localhost:8080/"
        },
        "outputId": "4a0a4957-74a5-4801-99c5-6dbb37490e37"
      },
      "execution_count": null,
      "outputs": [
        {
          "output_type": "stream",
          "name": "stdout",
          "text": [
            "chmod: cannot access '/root/.kaggle/kaggle.json': No such file or directory\n"
          ]
        }
      ]
    },
    {
      "cell_type": "code",
      "execution_count": null,
      "metadata": {
        "id": "hYCccnEGeKW9",
        "colab": {
          "base_uri": "https://localhost:8080/"
        },
        "outputId": "fc48bd26-079b-47ca-a845-466e2d1ba0f2"
      },
      "outputs": [
        {
          "output_type": "stream",
          "name": "stdout",
          "text": [
            "Traceback (most recent call last):\n",
            "  File \"/usr/local/bin/kaggle\", line 5, in <module>\n",
            "    from kaggle.cli import main\n",
            "  File \"/usr/local/lib/python3.7/dist-packages/kaggle/__init__.py\", line 23, in <module>\n",
            "    api.authenticate()\n",
            "  File \"/usr/local/lib/python3.7/dist-packages/kaggle/api/kaggle_api_extended.py\", line 166, in authenticate\n",
            "    self.config_file, self.config_dir))\n",
            "OSError: Could not find kaggle.json. Make sure it's located in /root/.kaggle. Or use the environment method.\n"
          ]
        }
      ],
      "source": [
        "!kaggle datasets download -d usamafarman/trainingdataset"
      ]
    },
    {
      "cell_type": "code",
      "source": [
        "pwd"
      ],
      "metadata": {
        "colab": {
          "base_uri": "https://localhost:8080/",
          "height": 35
        },
        "id": "lUTbVQfRY-7i",
        "outputId": "d8f7d3e5-4c3a-497b-e064-f892647ea832"
      },
      "execution_count": null,
      "outputs": [
        {
          "output_type": "execute_result",
          "data": {
            "text/plain": [
              "'/content'"
            ],
            "application/vnd.google.colaboratory.intrinsic+json": {
              "type": "string"
            }
          },
          "metadata": {},
          "execution_count": 7
        }
      ]
    },
    {
      "cell_type": "code",
      "execution_count": null,
      "metadata": {
        "id": "Nsvk4iWbfAK8"
      },
      "outputs": [],
      "source": [
        "!unzip /content/trainingdataset.zip -d /content/data\n"
      ]
    },
    {
      "cell_type": "code",
      "execution_count": null,
      "metadata": {
        "id": "VjY9_VPzfOhY"
      },
      "outputs": [],
      "source": [
        "!mkdir train\n",
        "!mkdir train/images\n",
        "!mkdir train/labels\n",
        "!mkdir val\n",
        "!mkdir val/images\n",
        "!mkdir val/labels"
      ]
    },
    {
      "cell_type": "code",
      "execution_count": null,
      "metadata": {
        "id": "h5vamwsyfbUz"
      },
      "outputs": [],
      "source": [
        "from os import walk\n",
        "import matplotlib.pyplot as plt\n",
        "path=\"/content/data\"\n",
        "filenames2 = next(walk(path), (None, None, []))[2]\n",
        "path=path+\"/\"\n"
      ]
    },
    {
      "cell_type": "code",
      "source": [
        "label=[i for i in filenames2 if i.endswith('.txt')]\n",
        "images=[i for i in filenames2 if i.endswith('.jpg')]\n"
      ],
      "metadata": {
        "id": "SOX4yRKAyXAj"
      },
      "execution_count": null,
      "outputs": []
    },
    {
      "cell_type": "code",
      "source": [
        "label.remove('classes.txt')"
      ],
      "metadata": {
        "id": "BQGU7j7bdy1n"
      },
      "execution_count": null,
      "outputs": []
    },
    {
      "cell_type": "code",
      "execution_count": null,
      "metadata": {
        "id": "vwCb43ytfqAZ"
      },
      "outputs": [],
      "source": [
        "label1=[path + s for s in label]\n",
        "images1=[path + s for s in images]\n"
      ]
    },
    {
      "cell_type": "code",
      "source": [
        "len(images1)\n",
        "len(label1)"
      ],
      "metadata": {
        "colab": {
          "base_uri": "https://localhost:8080/"
        },
        "id": "65zZP8TkyxED",
        "outputId": "5bf57e34-39df-4921-c999-c24c6fa1594d"
      },
      "execution_count": null,
      "outputs": [
        {
          "output_type": "execute_result",
          "data": {
            "text/plain": [
              "695"
            ]
          },
          "metadata": {},
          "execution_count": 14
        }
      ]
    },
    {
      "cell_type": "code",
      "execution_count": null,
      "metadata": {
        "id": "a1QsTTy0fxLp"
      },
      "outputs": [],
      "source": [
        "import matplotlib.pyplot as plt\n",
        "from sklearn.model_selection import train_test_split\n",
        "X_train, X_test, y_train, y_test = train_test_split(images1, label1, test_size=0.40, random_state=42)\n"
      ]
    },
    {
      "cell_type": "code",
      "execution_count": null,
      "metadata": {
        "id": "8dIDRCCKfzaB"
      },
      "outputs": [],
      "source": [
        "import shutil\n",
        "\n",
        "dst=\"/content/train/images\"\n",
        "for i in X_train:\n",
        "    src=i\n",
        "    shutil.copy2(src, dst)\n"
      ]
    },
    {
      "cell_type": "code",
      "execution_count": null,
      "metadata": {
        "id": "YxuGxWW0f7p3"
      },
      "outputs": [],
      "source": [
        "dst=\"/content/val/images\"\n",
        "for i in X_test:\n",
        "    src=i\n",
        "    shutil.copy2(src, dst)\n"
      ]
    },
    {
      "cell_type": "code",
      "execution_count": null,
      "metadata": {
        "id": "NJae1CcGgGrt"
      },
      "outputs": [],
      "source": [
        "dst=\"/content/train/labels\"\n",
        "for i in y_train:\n",
        "    src=i\n",
        "    shutil.copy2(src, dst)"
      ]
    },
    {
      "cell_type": "code",
      "execution_count": null,
      "metadata": {
        "id": "2eSaRJ-0gMt8"
      },
      "outputs": [],
      "source": [
        "dst=\"/content/val/labels\"\n",
        "for i in y_test:\n",
        "    src=i\n",
        "    shutil.copy2(src, dst)\n"
      ]
    },
    {
      "cell_type": "code",
      "execution_count": null,
      "metadata": {
        "id": "go53ieLugTJY",
        "colab": {
          "base_uri": "https://localhost:8080/"
        },
        "outputId": "ae0c7997-6e4f-47ad-e656-463119c74c81"
      },
      "outputs": [
        {
          "output_type": "stream",
          "name": "stdout",
          "text": [
            "Cloning into 'yolov5'...\n",
            "remote: Enumerating objects: 14419, done.\u001b[K\n",
            "remote: Counting objects: 100% (40/40), done.\u001b[K\n",
            "remote: Compressing objects: 100% (29/29), done.\u001b[K\n",
            "remote: Total 14419 (delta 15), reused 25 (delta 11), pack-reused 14379\u001b[K\n",
            "Receiving objects: 100% (14419/14419), 13.40 MiB | 24.46 MiB/s, done.\n",
            "Resolving deltas: 100% (9965/9965), done.\n",
            "Looking in indexes: https://pypi.org/simple, https://us-python.pkg.dev/colab-wheels/public/simple/\n",
            "Requirement already satisfied: matplotlib>=3.2.2 in /usr/local/lib/python3.7/dist-packages (from -r yolov5/requirements.txt (line 5)) (3.2.2)\n",
            "Requirement already satisfied: numpy>=1.18.5 in /usr/local/lib/python3.7/dist-packages (from -r yolov5/requirements.txt (line 6)) (1.21.6)\n",
            "Requirement already satisfied: opencv-python>=4.1.1 in /usr/local/lib/python3.7/dist-packages (from -r yolov5/requirements.txt (line 7)) (4.6.0.66)\n",
            "Requirement already satisfied: Pillow>=7.1.2 in /usr/local/lib/python3.7/dist-packages (from -r yolov5/requirements.txt (line 8)) (7.1.2)\n",
            "Requirement already satisfied: PyYAML>=5.3.1 in /usr/local/lib/python3.7/dist-packages (from -r yolov5/requirements.txt (line 9)) (6.0)\n",
            "Requirement already satisfied: requests>=2.23.0 in /usr/local/lib/python3.7/dist-packages (from -r yolov5/requirements.txt (line 10)) (2.23.0)\n",
            "Requirement already satisfied: scipy>=1.4.1 in /usr/local/lib/python3.7/dist-packages (from -r yolov5/requirements.txt (line 11)) (1.7.3)\n",
            "Requirement already satisfied: torch>=1.7.0 in /usr/local/lib/python3.7/dist-packages (from -r yolov5/requirements.txt (line 12)) (1.12.1+cu113)\n",
            "Requirement already satisfied: torchvision>=0.8.1 in /usr/local/lib/python3.7/dist-packages (from -r yolov5/requirements.txt (line 13)) (0.13.1+cu113)\n",
            "Requirement already satisfied: tqdm>=4.64.0 in /usr/local/lib/python3.7/dist-packages (from -r yolov5/requirements.txt (line 14)) (4.64.1)\n",
            "Requirement already satisfied: tensorboard>=2.4.1 in /usr/local/lib/python3.7/dist-packages (from -r yolov5/requirements.txt (line 18)) (2.9.1)\n",
            "Requirement already satisfied: pandas>=1.1.4 in /usr/local/lib/python3.7/dist-packages (from -r yolov5/requirements.txt (line 23)) (1.3.5)\n",
            "Requirement already satisfied: seaborn>=0.11.0 in /usr/local/lib/python3.7/dist-packages (from -r yolov5/requirements.txt (line 24)) (0.11.2)\n",
            "Requirement already satisfied: ipython in /usr/local/lib/python3.7/dist-packages (from -r yolov5/requirements.txt (line 41)) (7.9.0)\n",
            "Requirement already satisfied: psutil in /usr/local/lib/python3.7/dist-packages (from -r yolov5/requirements.txt (line 42)) (5.4.8)\n",
            "Collecting thop>=0.1.1\n",
            "  Downloading thop-0.1.1.post2209072238-py3-none-any.whl (15 kB)\n",
            "Requirement already satisfied: kiwisolver>=1.0.1 in /usr/local/lib/python3.7/dist-packages (from matplotlib>=3.2.2->-r yolov5/requirements.txt (line 5)) (1.4.4)\n",
            "Requirement already satisfied: pyparsing!=2.0.4,!=2.1.2,!=2.1.6,>=2.0.1 in /usr/local/lib/python3.7/dist-packages (from matplotlib>=3.2.2->-r yolov5/requirements.txt (line 5)) (3.0.9)\n",
            "Requirement already satisfied: python-dateutil>=2.1 in /usr/local/lib/python3.7/dist-packages (from matplotlib>=3.2.2->-r yolov5/requirements.txt (line 5)) (2.8.2)\n",
            "Requirement already satisfied: cycler>=0.10 in /usr/local/lib/python3.7/dist-packages (from matplotlib>=3.2.2->-r yolov5/requirements.txt (line 5)) (0.11.0)\n",
            "Requirement already satisfied: certifi>=2017.4.17 in /usr/local/lib/python3.7/dist-packages (from requests>=2.23.0->-r yolov5/requirements.txt (line 10)) (2022.9.24)\n",
            "Requirement already satisfied: idna<3,>=2.5 in /usr/local/lib/python3.7/dist-packages (from requests>=2.23.0->-r yolov5/requirements.txt (line 10)) (2.10)\n",
            "Requirement already satisfied: chardet<4,>=3.0.2 in /usr/local/lib/python3.7/dist-packages (from requests>=2.23.0->-r yolov5/requirements.txt (line 10)) (3.0.4)\n",
            "Requirement already satisfied: urllib3!=1.25.0,!=1.25.1,<1.26,>=1.21.1 in /usr/local/lib/python3.7/dist-packages (from requests>=2.23.0->-r yolov5/requirements.txt (line 10)) (1.24.3)\n",
            "Requirement already satisfied: typing-extensions in /usr/local/lib/python3.7/dist-packages (from torch>=1.7.0->-r yolov5/requirements.txt (line 12)) (4.1.1)\n",
            "Requirement already satisfied: absl-py>=0.4 in /usr/local/lib/python3.7/dist-packages (from tensorboard>=2.4.1->-r yolov5/requirements.txt (line 18)) (1.3.0)\n",
            "Requirement already satisfied: google-auth-oauthlib<0.5,>=0.4.1 in /usr/local/lib/python3.7/dist-packages (from tensorboard>=2.4.1->-r yolov5/requirements.txt (line 18)) (0.4.6)\n",
            "Requirement already satisfied: protobuf<3.20,>=3.9.2 in /usr/local/lib/python3.7/dist-packages (from tensorboard>=2.4.1->-r yolov5/requirements.txt (line 18)) (3.17.3)\n",
            "Requirement already satisfied: markdown>=2.6.8 in /usr/local/lib/python3.7/dist-packages (from tensorboard>=2.4.1->-r yolov5/requirements.txt (line 18)) (3.4.1)\n",
            "Requirement already satisfied: tensorboard-data-server<0.7.0,>=0.6.0 in /usr/local/lib/python3.7/dist-packages (from tensorboard>=2.4.1->-r yolov5/requirements.txt (line 18)) (0.6.1)\n",
            "Requirement already satisfied: setuptools>=41.0.0 in /usr/local/lib/python3.7/dist-packages (from tensorboard>=2.4.1->-r yolov5/requirements.txt (line 18)) (57.4.0)\n",
            "Requirement already satisfied: wheel>=0.26 in /usr/local/lib/python3.7/dist-packages (from tensorboard>=2.4.1->-r yolov5/requirements.txt (line 18)) (0.37.1)\n",
            "Requirement already satisfied: google-auth<3,>=1.6.3 in /usr/local/lib/python3.7/dist-packages (from tensorboard>=2.4.1->-r yolov5/requirements.txt (line 18)) (1.35.0)\n",
            "Requirement already satisfied: tensorboard-plugin-wit>=1.6.0 in /usr/local/lib/python3.7/dist-packages (from tensorboard>=2.4.1->-r yolov5/requirements.txt (line 18)) (1.8.1)\n",
            "Requirement already satisfied: werkzeug>=1.0.1 in /usr/local/lib/python3.7/dist-packages (from tensorboard>=2.4.1->-r yolov5/requirements.txt (line 18)) (1.0.1)\n",
            "Requirement already satisfied: grpcio>=1.24.3 in /usr/local/lib/python3.7/dist-packages (from tensorboard>=2.4.1->-r yolov5/requirements.txt (line 18)) (1.50.0)\n",
            "Requirement already satisfied: pytz>=2017.3 in /usr/local/lib/python3.7/dist-packages (from pandas>=1.1.4->-r yolov5/requirements.txt (line 23)) (2022.5)\n",
            "Requirement already satisfied: rsa<5,>=3.1.4 in /usr/local/lib/python3.7/dist-packages (from google-auth<3,>=1.6.3->tensorboard>=2.4.1->-r yolov5/requirements.txt (line 18)) (4.9)\n",
            "Requirement already satisfied: pyasn1-modules>=0.2.1 in /usr/local/lib/python3.7/dist-packages (from google-auth<3,>=1.6.3->tensorboard>=2.4.1->-r yolov5/requirements.txt (line 18)) (0.2.8)\n",
            "Requirement already satisfied: six>=1.9.0 in /usr/local/lib/python3.7/dist-packages (from google-auth<3,>=1.6.3->tensorboard>=2.4.1->-r yolov5/requirements.txt (line 18)) (1.15.0)\n",
            "Requirement already satisfied: cachetools<5.0,>=2.0.0 in /usr/local/lib/python3.7/dist-packages (from google-auth<3,>=1.6.3->tensorboard>=2.4.1->-r yolov5/requirements.txt (line 18)) (4.2.4)\n",
            "Requirement already satisfied: requests-oauthlib>=0.7.0 in /usr/local/lib/python3.7/dist-packages (from google-auth-oauthlib<0.5,>=0.4.1->tensorboard>=2.4.1->-r yolov5/requirements.txt (line 18)) (1.3.1)\n",
            "Requirement already satisfied: importlib-metadata>=4.4 in /usr/local/lib/python3.7/dist-packages (from markdown>=2.6.8->tensorboard>=2.4.1->-r yolov5/requirements.txt (line 18)) (4.13.0)\n",
            "Requirement already satisfied: zipp>=0.5 in /usr/local/lib/python3.7/dist-packages (from importlib-metadata>=4.4->markdown>=2.6.8->tensorboard>=2.4.1->-r yolov5/requirements.txt (line 18)) (3.9.0)\n",
            "Requirement already satisfied: pyasn1<0.5.0,>=0.4.6 in /usr/local/lib/python3.7/dist-packages (from pyasn1-modules>=0.2.1->google-auth<3,>=1.6.3->tensorboard>=2.4.1->-r yolov5/requirements.txt (line 18)) (0.4.8)\n",
            "Requirement already satisfied: oauthlib>=3.0.0 in /usr/local/lib/python3.7/dist-packages (from requests-oauthlib>=0.7.0->google-auth-oauthlib<0.5,>=0.4.1->tensorboard>=2.4.1->-r yolov5/requirements.txt (line 18)) (3.2.2)\n",
            "Requirement already satisfied: pygments in /usr/local/lib/python3.7/dist-packages (from ipython->-r yolov5/requirements.txt (line 41)) (2.6.1)\n",
            "Requirement already satisfied: pickleshare in /usr/local/lib/python3.7/dist-packages (from ipython->-r yolov5/requirements.txt (line 41)) (0.7.5)\n",
            "Requirement already satisfied: traitlets>=4.2 in /usr/local/lib/python3.7/dist-packages (from ipython->-r yolov5/requirements.txt (line 41)) (5.1.1)\n",
            "Requirement already satisfied: decorator in /usr/local/lib/python3.7/dist-packages (from ipython->-r yolov5/requirements.txt (line 41)) (4.4.2)\n",
            "Requirement already satisfied: pexpect in /usr/local/lib/python3.7/dist-packages (from ipython->-r yolov5/requirements.txt (line 41)) (4.8.0)\n",
            "Requirement already satisfied: prompt-toolkit<2.1.0,>=2.0.0 in /usr/local/lib/python3.7/dist-packages (from ipython->-r yolov5/requirements.txt (line 41)) (2.0.10)\n",
            "Requirement already satisfied: backcall in /usr/local/lib/python3.7/dist-packages (from ipython->-r yolov5/requirements.txt (line 41)) (0.2.0)\n",
            "Collecting jedi>=0.10\n",
            "  Downloading jedi-0.18.1-py2.py3-none-any.whl (1.6 MB)\n",
            "\u001b[K     |████████████████████████████████| 1.6 MB 7.8 MB/s \n",
            "\u001b[?25hRequirement already satisfied: parso<0.9.0,>=0.8.0 in /usr/local/lib/python3.7/dist-packages (from jedi>=0.10->ipython->-r yolov5/requirements.txt (line 41)) (0.8.3)\n",
            "Requirement already satisfied: wcwidth in /usr/local/lib/python3.7/dist-packages (from prompt-toolkit<2.1.0,>=2.0.0->ipython->-r yolov5/requirements.txt (line 41)) (0.2.5)\n",
            "Requirement already satisfied: ptyprocess>=0.5 in /usr/local/lib/python3.7/dist-packages (from pexpect->ipython->-r yolov5/requirements.txt (line 41)) (0.7.0)\n",
            "Installing collected packages: jedi, thop\n",
            "Successfully installed jedi-0.18.1 thop-0.1.1.post2209072238\n",
            "/content/yolov5\n"
          ]
        }
      ],
      "source": [
        "!git clone https://github.com/ultralytics/yolov5  # clone repo\n",
        "!pip install -r yolov5/requirements.txt  # install dependencies\n",
        "%cd yolov5"
      ]
    },
    {
      "cell_type": "code",
      "execution_count": null,
      "metadata": {
        "id": "E-ujF4RxgaBg",
        "colab": {
          "base_uri": "https://localhost:8080/"
        },
        "outputId": "3b3af70b-717d-4546-9662-0936185b7ddb"
      },
      "outputs": [
        {
          "output_type": "stream",
          "name": "stdout",
          "text": [
            "\u001b[34m\u001b[1mtrain: \u001b[0mweights=yolov5s.pt, cfg=, data=usama_traffic.yaml, hyp=data/hyps/hyp.scratch-low.yaml, epochs=60, batch_size=64, imgsz=640, rect=False, resume=False, nosave=False, noval=False, noautoanchor=False, noplots=False, evolve=None, bucket=, cache=ram, image_weights=False, device=, multi_scale=False, single_cls=False, optimizer=SGD, sync_bn=False, workers=8, project=runs/train, name=exp, exist_ok=False, quad=False, cos_lr=False, label_smoothing=0.0, patience=100, freeze=[0], save_period=-1, seed=0, local_rank=-1, entity=None, upload_dataset=False, bbox_interval=-1, artifact_alias=latest\n",
            "\u001b[34m\u001b[1mgithub: \u001b[0mup to date with https://github.com/ultralytics/yolov5 ✅\n",
            "Traceback (most recent call last):\n",
            "  File \"train.py\", line 630, in <module>\n",
            "    main(opt)\n",
            "  File \"train.py\", line 499, in main\n",
            "    check_file(opt.data), check_yaml(opt.cfg), check_yaml(opt.hyp), str(opt.weights), str(opt.project)  # checks\n",
            "  File \"/content/yolov5/utils/general.py\", line 448, in check_file\n",
            "    assert len(files), f'File not found: {file}'  # assert file was found\n",
            "AssertionError: File not found: usama_traffic.yaml\n"
          ]
        }
      ],
      "source": [
        "!python3 train.py --img 640 --batch 64 --epochs 60 --data usama_traffic.yaml --weights yolov5s.pt --cache "
      ]
    },
    {
      "cell_type": "code",
      "source": [
        "from google.colab import drive\n",
        "drive.mount('/content/drive')"
      ],
      "metadata": {
        "id": "gLebT1T10gAM",
        "colab": {
          "base_uri": "https://localhost:8080/"
        },
        "outputId": "07454629-3258-46a9-b7fd-12cb9cb8141c"
      },
      "execution_count": null,
      "outputs": [
        {
          "output_type": "stream",
          "name": "stdout",
          "text": [
            "Mounted at /content/drive\n"
          ]
        }
      ]
    },
    {
      "cell_type": "code",
      "execution_count": null,
      "metadata": {
        "id": "Ab9NiJwChVR_"
      },
      "outputs": [],
      "source": [
        "#!python detect.py --weights  /content/drive/MyDrive/Colab Notebooks/best (1).pt --conf 0.4 --source https://myyolobuckett.s3.amazonaws.com/My+Video.mp4"
      ]
    },
    {
      "cell_type": "code",
      "source": [
        "!python detect.py --weights /content/best.pt --conf 0.4 --source /content/drive/MyDrive/vlc-record-2020-02-29-17h36m02s-rtmp___192.168.43.28_live_stream-.mp4"
      ],
      "metadata": {
        "id": "XG7riJlO7rBp",
        "colab": {
          "base_uri": "https://localhost:8080/"
        },
        "outputId": "16f0b03e-64fa-44a7-afeb-ffd398b02d27"
      },
      "execution_count": null,
      "outputs": [
        {
          "output_type": "stream",
          "name": "stdout",
          "text": [
            "\u001b[34m\u001b[1mdetect: \u001b[0mweights=['/content/best.pt'], source=/content/drive/MyDrive/vlc-record-2020-02-29-17h36m02s-rtmp___192.168.43.28_live_stream-.mp4, data=data/coco128.yaml, imgsz=[640, 640], conf_thres=0.4, iou_thres=0.45, max_det=1000, device=, view_img=False, save_txt=False, save_conf=False, save_crop=False, nosave=False, classes=None, agnostic_nms=False, augment=False, visualize=False, update=False, project=runs/detect, name=exp, exist_ok=False, line_thickness=3, hide_labels=False, hide_conf=False, half=False, dnn=False, vid_stride=1\n",
            "YOLOv5 🚀 v6.2-206-gfba61e5 Python-3.7.15 torch-1.12.1+cu113 CUDA:0 (Tesla T4, 15110MiB)\n",
            "\n",
            "Fusing layers... \n",
            "Model summary: 213 layers, 7029004 parameters, 0 gradients, 15.8 GFLOPs\n",
            "video 1/1 (1/501) /content/drive/MyDrive/vlc-record-2020-02-29-17h36m02s-rtmp___192.168.43.28_live_stream-.mp4: 512x640 1 mini truck, 12.3ms\n",
            "video 1/1 (2/501) /content/drive/MyDrive/vlc-record-2020-02-29-17h36m02s-rtmp___192.168.43.28_live_stream-.mp4: 512x640 1 mini truck, 10.3ms\n",
            "video 1/1 (3/501) /content/drive/MyDrive/vlc-record-2020-02-29-17h36m02s-rtmp___192.168.43.28_live_stream-.mp4: 512x640 (no detections), 10.3ms\n",
            "video 1/1 (4/501) /content/drive/MyDrive/vlc-record-2020-02-29-17h36m02s-rtmp___192.168.43.28_live_stream-.mp4: 512x640 1 mini truck, 10.3ms\n",
            "video 1/1 (5/501) /content/drive/MyDrive/vlc-record-2020-02-29-17h36m02s-rtmp___192.168.43.28_live_stream-.mp4: 512x640 (no detections), 11.8ms\n",
            "video 1/1 (6/501) /content/drive/MyDrive/vlc-record-2020-02-29-17h36m02s-rtmp___192.168.43.28_live_stream-.mp4: 512x640 1 mini truck, 10.3ms\n",
            "video 1/1 (7/501) /content/drive/MyDrive/vlc-record-2020-02-29-17h36m02s-rtmp___192.168.43.28_live_stream-.mp4: 512x640 (no detections), 10.3ms\n",
            "video 1/1 (8/501) /content/drive/MyDrive/vlc-record-2020-02-29-17h36m02s-rtmp___192.168.43.28_live_stream-.mp4: 512x640 1 mini truck, 10.3ms\n",
            "video 1/1 (9/501) /content/drive/MyDrive/vlc-record-2020-02-29-17h36m02s-rtmp___192.168.43.28_live_stream-.mp4: 512x640 1 mini truck, 10.3ms\n",
            "video 1/1 (10/501) /content/drive/MyDrive/vlc-record-2020-02-29-17h36m02s-rtmp___192.168.43.28_live_stream-.mp4: 512x640 (no detections), 10.3ms\n",
            "video 1/1 (11/501) /content/drive/MyDrive/vlc-record-2020-02-29-17h36m02s-rtmp___192.168.43.28_live_stream-.mp4: 512x640 (no detections), 10.3ms\n",
            "video 1/1 (12/501) /content/drive/MyDrive/vlc-record-2020-02-29-17h36m02s-rtmp___192.168.43.28_live_stream-.mp4: 512x640 (no detections), 10.3ms\n",
            "video 1/1 (13/501) /content/drive/MyDrive/vlc-record-2020-02-29-17h36m02s-rtmp___192.168.43.28_live_stream-.mp4: 512x640 (no detections), 10.3ms\n",
            "video 1/1 (14/501) /content/drive/MyDrive/vlc-record-2020-02-29-17h36m02s-rtmp___192.168.43.28_live_stream-.mp4: 512x640 (no detections), 12.5ms\n",
            "video 1/1 (15/501) /content/drive/MyDrive/vlc-record-2020-02-29-17h36m02s-rtmp___192.168.43.28_live_stream-.mp4: 512x640 (no detections), 10.4ms\n",
            "video 1/1 (16/501) /content/drive/MyDrive/vlc-record-2020-02-29-17h36m02s-rtmp___192.168.43.28_live_stream-.mp4: 512x640 (no detections), 9.2ms\n",
            "video 1/1 (17/501) /content/drive/MyDrive/vlc-record-2020-02-29-17h36m02s-rtmp___192.168.43.28_live_stream-.mp4: 512x640 (no detections), 9.2ms\n",
            "video 1/1 (18/501) /content/drive/MyDrive/vlc-record-2020-02-29-17h36m02s-rtmp___192.168.43.28_live_stream-.mp4: 512x640 (no detections), 9.2ms\n",
            "video 1/1 (19/501) /content/drive/MyDrive/vlc-record-2020-02-29-17h36m02s-rtmp___192.168.43.28_live_stream-.mp4: 512x640 (no detections), 9.3ms\n",
            "video 1/1 (20/501) /content/drive/MyDrive/vlc-record-2020-02-29-17h36m02s-rtmp___192.168.43.28_live_stream-.mp4: 512x640 (no detections), 9.2ms\n",
            "video 1/1 (21/501) /content/drive/MyDrive/vlc-record-2020-02-29-17h36m02s-rtmp___192.168.43.28_live_stream-.mp4: 512x640 (no detections), 9.2ms\n",
            "video 1/1 (22/501) /content/drive/MyDrive/vlc-record-2020-02-29-17h36m02s-rtmp___192.168.43.28_live_stream-.mp4: 512x640 (no detections), 9.2ms\n",
            "video 1/1 (23/501) /content/drive/MyDrive/vlc-record-2020-02-29-17h36m02s-rtmp___192.168.43.28_live_stream-.mp4: 512x640 (no detections), 9.2ms\n",
            "video 1/1 (24/501) /content/drive/MyDrive/vlc-record-2020-02-29-17h36m02s-rtmp___192.168.43.28_live_stream-.mp4: 512x640 (no detections), 9.2ms\n",
            "video 1/1 (25/501) /content/drive/MyDrive/vlc-record-2020-02-29-17h36m02s-rtmp___192.168.43.28_live_stream-.mp4: 512x640 (no detections), 9.1ms\n",
            "video 1/1 (26/501) /content/drive/MyDrive/vlc-record-2020-02-29-17h36m02s-rtmp___192.168.43.28_live_stream-.mp4: 512x640 (no detections), 8.5ms\n",
            "video 1/1 (27/501) /content/drive/MyDrive/vlc-record-2020-02-29-17h36m02s-rtmp___192.168.43.28_live_stream-.mp4: 512x640 (no detections), 8.5ms\n",
            "video 1/1 (28/501) /content/drive/MyDrive/vlc-record-2020-02-29-17h36m02s-rtmp___192.168.43.28_live_stream-.mp4: 512x640 (no detections), 8.4ms\n",
            "video 1/1 (29/501) /content/drive/MyDrive/vlc-record-2020-02-29-17h36m02s-rtmp___192.168.43.28_live_stream-.mp4: 512x640 (no detections), 10.7ms\n",
            "video 1/1 (30/501) /content/drive/MyDrive/vlc-record-2020-02-29-17h36m02s-rtmp___192.168.43.28_live_stream-.mp4: 512x640 (no detections), 8.4ms\n",
            "video 1/1 (31/501) /content/drive/MyDrive/vlc-record-2020-02-29-17h36m02s-rtmp___192.168.43.28_live_stream-.mp4: 512x640 (no detections), 8.5ms\n",
            "video 1/1 (32/501) /content/drive/MyDrive/vlc-record-2020-02-29-17h36m02s-rtmp___192.168.43.28_live_stream-.mp4: 512x640 (no detections), 8.4ms\n",
            "video 1/1 (33/501) /content/drive/MyDrive/vlc-record-2020-02-29-17h36m02s-rtmp___192.168.43.28_live_stream-.mp4: 512x640 (no detections), 8.4ms\n",
            "video 1/1 (34/501) /content/drive/MyDrive/vlc-record-2020-02-29-17h36m02s-rtmp___192.168.43.28_live_stream-.mp4: 512x640 (no detections), 8.4ms\n",
            "video 1/1 (35/501) /content/drive/MyDrive/vlc-record-2020-02-29-17h36m02s-rtmp___192.168.43.28_live_stream-.mp4: 512x640 (no detections), 12.9ms\n",
            "video 1/1 (36/501) /content/drive/MyDrive/vlc-record-2020-02-29-17h36m02s-rtmp___192.168.43.28_live_stream-.mp4: 512x640 (no detections), 8.3ms\n",
            "video 1/1 (37/501) /content/drive/MyDrive/vlc-record-2020-02-29-17h36m02s-rtmp___192.168.43.28_live_stream-.mp4: 512x640 (no detections), 9.2ms\n",
            "video 1/1 (38/501) /content/drive/MyDrive/vlc-record-2020-02-29-17h36m02s-rtmp___192.168.43.28_live_stream-.mp4: 512x640 1 motorcycle, 10.6ms\n",
            "video 1/1 (39/501) /content/drive/MyDrive/vlc-record-2020-02-29-17h36m02s-rtmp___192.168.43.28_live_stream-.mp4: 512x640 1 motorcycle, 8.3ms\n",
            "video 1/1 (40/501) /content/drive/MyDrive/vlc-record-2020-02-29-17h36m02s-rtmp___192.168.43.28_live_stream-.mp4: 512x640 1 motorcycle, 8.3ms\n",
            "video 1/1 (41/501) /content/drive/MyDrive/vlc-record-2020-02-29-17h36m02s-rtmp___192.168.43.28_live_stream-.mp4: 512x640 1 motorcycle, 8.3ms\n",
            "video 1/1 (42/501) /content/drive/MyDrive/vlc-record-2020-02-29-17h36m02s-rtmp___192.168.43.28_live_stream-.mp4: 512x640 1 motorcycle, 8.3ms\n",
            "video 1/1 (43/501) /content/drive/MyDrive/vlc-record-2020-02-29-17h36m02s-rtmp___192.168.43.28_live_stream-.mp4: 512x640 1 motorcycle, 12.9ms\n",
            "video 1/1 (44/501) /content/drive/MyDrive/vlc-record-2020-02-29-17h36m02s-rtmp___192.168.43.28_live_stream-.mp4: 512x640 1 motorcycle, 8.3ms\n",
            "video 1/1 (45/501) /content/drive/MyDrive/vlc-record-2020-02-29-17h36m02s-rtmp___192.168.43.28_live_stream-.mp4: 512x640 1 motorcycle, 8.2ms\n",
            "video 1/1 (46/501) /content/drive/MyDrive/vlc-record-2020-02-29-17h36m02s-rtmp___192.168.43.28_live_stream-.mp4: 512x640 (no detections), 8.2ms\n",
            "video 1/1 (47/501) /content/drive/MyDrive/vlc-record-2020-02-29-17h36m02s-rtmp___192.168.43.28_live_stream-.mp4: 512x640 (no detections), 8.7ms\n",
            "video 1/1 (48/501) /content/drive/MyDrive/vlc-record-2020-02-29-17h36m02s-rtmp___192.168.43.28_live_stream-.mp4: 512x640 (no detections), 8.3ms\n",
            "video 1/1 (49/501) /content/drive/MyDrive/vlc-record-2020-02-29-17h36m02s-rtmp___192.168.43.28_live_stream-.mp4: 512x640 (no detections), 8.1ms\n",
            "video 1/1 (50/501) /content/drive/MyDrive/vlc-record-2020-02-29-17h36m02s-rtmp___192.168.43.28_live_stream-.mp4: 512x640 (no detections), 8.1ms\n",
            "video 1/1 (51/501) /content/drive/MyDrive/vlc-record-2020-02-29-17h36m02s-rtmp___192.168.43.28_live_stream-.mp4: 512x640 1 car, 8.2ms\n",
            "video 1/1 (52/501) /content/drive/MyDrive/vlc-record-2020-02-29-17h36m02s-rtmp___192.168.43.28_live_stream-.mp4: 512x640 1 car, 9.0ms\n",
            "video 1/1 (53/501) /content/drive/MyDrive/vlc-record-2020-02-29-17h36m02s-rtmp___192.168.43.28_live_stream-.mp4: 512x640 (no detections), 12.8ms\n",
            "video 1/1 (54/501) /content/drive/MyDrive/vlc-record-2020-02-29-17h36m02s-rtmp___192.168.43.28_live_stream-.mp4: 512x640 (no detections), 8.1ms\n",
            "video 1/1 (55/501) /content/drive/MyDrive/vlc-record-2020-02-29-17h36m02s-rtmp___192.168.43.28_live_stream-.mp4: 512x640 (no detections), 8.2ms\n",
            "video 1/1 (56/501) /content/drive/MyDrive/vlc-record-2020-02-29-17h36m02s-rtmp___192.168.43.28_live_stream-.mp4: 512x640 1 car, 9.9ms\n",
            "video 1/1 (57/501) /content/drive/MyDrive/vlc-record-2020-02-29-17h36m02s-rtmp___192.168.43.28_live_stream-.mp4: 512x640 1 car, 8.2ms\n",
            "video 1/1 (58/501) /content/drive/MyDrive/vlc-record-2020-02-29-17h36m02s-rtmp___192.168.43.28_live_stream-.mp4: 512x640 (no detections), 8.3ms\n",
            "video 1/1 (59/501) /content/drive/MyDrive/vlc-record-2020-02-29-17h36m02s-rtmp___192.168.43.28_live_stream-.mp4: 512x640 (no detections), 8.2ms\n",
            "video 1/1 (60/501) /content/drive/MyDrive/vlc-record-2020-02-29-17h36m02s-rtmp___192.168.43.28_live_stream-.mp4: 512x640 (no detections), 8.7ms\n",
            "video 1/1 (61/501) /content/drive/MyDrive/vlc-record-2020-02-29-17h36m02s-rtmp___192.168.43.28_live_stream-.mp4: 512x640 (no detections), 8.8ms\n",
            "video 1/1 (62/501) /content/drive/MyDrive/vlc-record-2020-02-29-17h36m02s-rtmp___192.168.43.28_live_stream-.mp4: 512x640 (no detections), 8.3ms\n",
            "video 1/1 (63/501) /content/drive/MyDrive/vlc-record-2020-02-29-17h36m02s-rtmp___192.168.43.28_live_stream-.mp4: 512x640 (no detections), 12.0ms\n",
            "video 1/1 (64/501) /content/drive/MyDrive/vlc-record-2020-02-29-17h36m02s-rtmp___192.168.43.28_live_stream-.mp4: 512x640 (no detections), 8.4ms\n",
            "video 1/1 (65/501) /content/drive/MyDrive/vlc-record-2020-02-29-17h36m02s-rtmp___192.168.43.28_live_stream-.mp4: 512x640 (no detections), 8.7ms\n",
            "video 1/1 (66/501) /content/drive/MyDrive/vlc-record-2020-02-29-17h36m02s-rtmp___192.168.43.28_live_stream-.mp4: 512x640 (no detections), 8.2ms\n",
            "video 1/1 (67/501) /content/drive/MyDrive/vlc-record-2020-02-29-17h36m02s-rtmp___192.168.43.28_live_stream-.mp4: 512x640 (no detections), 10.9ms\n",
            "video 1/1 (68/501) /content/drive/MyDrive/vlc-record-2020-02-29-17h36m02s-rtmp___192.168.43.28_live_stream-.mp4: 512x640 (no detections), 8.2ms\n",
            "video 1/1 (69/501) /content/drive/MyDrive/vlc-record-2020-02-29-17h36m02s-rtmp___192.168.43.28_live_stream-.mp4: 512x640 (no detections), 8.6ms\n",
            "video 1/1 (70/501) /content/drive/MyDrive/vlc-record-2020-02-29-17h36m02s-rtmp___192.168.43.28_live_stream-.mp4: 512x640 (no detections), 8.6ms\n",
            "video 1/1 (71/501) /content/drive/MyDrive/vlc-record-2020-02-29-17h36m02s-rtmp___192.168.43.28_live_stream-.mp4: 512x640 (no detections), 8.5ms\n",
            "video 1/1 (72/501) /content/drive/MyDrive/vlc-record-2020-02-29-17h36m02s-rtmp___192.168.43.28_live_stream-.mp4: 512x640 (no detections), 9.1ms\n",
            "video 1/1 (73/501) /content/drive/MyDrive/vlc-record-2020-02-29-17h36m02s-rtmp___192.168.43.28_live_stream-.mp4: 512x640 (no detections), 8.3ms\n",
            "video 1/1 (74/501) /content/drive/MyDrive/vlc-record-2020-02-29-17h36m02s-rtmp___192.168.43.28_live_stream-.mp4: 512x640 (no detections), 8.4ms\n",
            "video 1/1 (75/501) /content/drive/MyDrive/vlc-record-2020-02-29-17h36m02s-rtmp___192.168.43.28_live_stream-.mp4: 512x640 (no detections), 8.5ms\n",
            "video 1/1 (76/501) /content/drive/MyDrive/vlc-record-2020-02-29-17h36m02s-rtmp___192.168.43.28_live_stream-.mp4: 512x640 (no detections), 8.2ms\n",
            "video 1/1 (77/501) /content/drive/MyDrive/vlc-record-2020-02-29-17h36m02s-rtmp___192.168.43.28_live_stream-.mp4: 512x640 (no detections), 8.8ms\n",
            "video 1/1 (78/501) /content/drive/MyDrive/vlc-record-2020-02-29-17h36m02s-rtmp___192.168.43.28_live_stream-.mp4: 512x640 (no detections), 9.0ms\n",
            "video 1/1 (79/501) /content/drive/MyDrive/vlc-record-2020-02-29-17h36m02s-rtmp___192.168.43.28_live_stream-.mp4: 512x640 (no detections), 8.1ms\n",
            "video 1/1 (80/501) /content/drive/MyDrive/vlc-record-2020-02-29-17h36m02s-rtmp___192.168.43.28_live_stream-.mp4: 512x640 (no detections), 8.1ms\n",
            "video 1/1 (81/501) /content/drive/MyDrive/vlc-record-2020-02-29-17h36m02s-rtmp___192.168.43.28_live_stream-.mp4: 512x640 (no detections), 8.0ms\n",
            "video 1/1 (82/501) /content/drive/MyDrive/vlc-record-2020-02-29-17h36m02s-rtmp___192.168.43.28_live_stream-.mp4: 512x640 (no detections), 11.8ms\n",
            "video 1/1 (83/501) /content/drive/MyDrive/vlc-record-2020-02-29-17h36m02s-rtmp___192.168.43.28_live_stream-.mp4: 512x640 (no detections), 8.1ms\n",
            "video 1/1 (84/501) /content/drive/MyDrive/vlc-record-2020-02-29-17h36m02s-rtmp___192.168.43.28_live_stream-.mp4: 512x640 (no detections), 12.9ms\n",
            "video 1/1 (85/501) /content/drive/MyDrive/vlc-record-2020-02-29-17h36m02s-rtmp___192.168.43.28_live_stream-.mp4: 512x640 (no detections), 9.0ms\n",
            "video 1/1 (86/501) /content/drive/MyDrive/vlc-record-2020-02-29-17h36m02s-rtmp___192.168.43.28_live_stream-.mp4: 512x640 (no detections), 8.3ms\n",
            "video 1/1 (87/501) /content/drive/MyDrive/vlc-record-2020-02-29-17h36m02s-rtmp___192.168.43.28_live_stream-.mp4: 512x640 (no detections), 8.2ms\n",
            "video 1/1 (88/501) /content/drive/MyDrive/vlc-record-2020-02-29-17h36m02s-rtmp___192.168.43.28_live_stream-.mp4: 512x640 (no detections), 8.1ms\n",
            "video 1/1 (89/501) /content/drive/MyDrive/vlc-record-2020-02-29-17h36m02s-rtmp___192.168.43.28_live_stream-.mp4: 512x640 (no detections), 8.1ms\n",
            "video 1/1 (90/501) /content/drive/MyDrive/vlc-record-2020-02-29-17h36m02s-rtmp___192.168.43.28_live_stream-.mp4: 512x640 (no detections), 8.1ms\n",
            "video 1/1 (91/501) /content/drive/MyDrive/vlc-record-2020-02-29-17h36m02s-rtmp___192.168.43.28_live_stream-.mp4: 512x640 (no detections), 8.0ms\n",
            "video 1/1 (92/501) /content/drive/MyDrive/vlc-record-2020-02-29-17h36m02s-rtmp___192.168.43.28_live_stream-.mp4: 512x640 (no detections), 8.2ms\n",
            "video 1/1 (93/501) /content/drive/MyDrive/vlc-record-2020-02-29-17h36m02s-rtmp___192.168.43.28_live_stream-.mp4: 512x640 (no detections), 8.3ms\n",
            "video 1/1 (94/501) /content/drive/MyDrive/vlc-record-2020-02-29-17h36m02s-rtmp___192.168.43.28_live_stream-.mp4: 512x640 (no detections), 8.0ms\n",
            "video 1/1 (95/501) /content/drive/MyDrive/vlc-record-2020-02-29-17h36m02s-rtmp___192.168.43.28_live_stream-.mp4: 512x640 (no detections), 9.9ms\n",
            "video 1/1 (96/501) /content/drive/MyDrive/vlc-record-2020-02-29-17h36m02s-rtmp___192.168.43.28_live_stream-.mp4: 512x640 (no detections), 8.8ms\n",
            "video 1/1 (97/501) /content/drive/MyDrive/vlc-record-2020-02-29-17h36m02s-rtmp___192.168.43.28_live_stream-.mp4: 512x640 (no detections), 12.3ms\n",
            "video 1/1 (98/501) /content/drive/MyDrive/vlc-record-2020-02-29-17h36m02s-rtmp___192.168.43.28_live_stream-.mp4: 512x640 (no detections), 8.0ms\n",
            "video 1/1 (99/501) /content/drive/MyDrive/vlc-record-2020-02-29-17h36m02s-rtmp___192.168.43.28_live_stream-.mp4: 512x640 (no detections), 8.0ms\n",
            "video 1/1 (100/501) /content/drive/MyDrive/vlc-record-2020-02-29-17h36m02s-rtmp___192.168.43.28_live_stream-.mp4: 512x640 (no detections), 8.2ms\n",
            "video 1/1 (101/501) /content/drive/MyDrive/vlc-record-2020-02-29-17h36m02s-rtmp___192.168.43.28_live_stream-.mp4: 512x640 (no detections), 8.0ms\n",
            "video 1/1 (102/501) /content/drive/MyDrive/vlc-record-2020-02-29-17h36m02s-rtmp___192.168.43.28_live_stream-.mp4: 512x640 (no detections), 8.3ms\n",
            "video 1/1 (103/501) /content/drive/MyDrive/vlc-record-2020-02-29-17h36m02s-rtmp___192.168.43.28_live_stream-.mp4: 512x640 (no detections), 8.0ms\n",
            "video 1/1 (104/501) /content/drive/MyDrive/vlc-record-2020-02-29-17h36m02s-rtmp___192.168.43.28_live_stream-.mp4: 512x640 (no detections), 7.9ms\n",
            "video 1/1 (105/501) /content/drive/MyDrive/vlc-record-2020-02-29-17h36m02s-rtmp___192.168.43.28_live_stream-.mp4: 512x640 (no detections), 7.9ms\n",
            "video 1/1 (106/501) /content/drive/MyDrive/vlc-record-2020-02-29-17h36m02s-rtmp___192.168.43.28_live_stream-.mp4: 512x640 (no detections), 7.8ms\n",
            "video 1/1 (107/501) /content/drive/MyDrive/vlc-record-2020-02-29-17h36m02s-rtmp___192.168.43.28_live_stream-.mp4: 512x640 (no detections), 8.0ms\n",
            "video 1/1 (108/501) /content/drive/MyDrive/vlc-record-2020-02-29-17h36m02s-rtmp___192.168.43.28_live_stream-.mp4: 512x640 (no detections), 8.0ms\n",
            "video 1/1 (109/501) /content/drive/MyDrive/vlc-record-2020-02-29-17h36m02s-rtmp___192.168.43.28_live_stream-.mp4: 512x640 (no detections), 8.0ms\n",
            "video 1/1 (110/501) /content/drive/MyDrive/vlc-record-2020-02-29-17h36m02s-rtmp___192.168.43.28_live_stream-.mp4: 512x640 (no detections), 7.8ms\n",
            "video 1/1 (111/501) /content/drive/MyDrive/vlc-record-2020-02-29-17h36m02s-rtmp___192.168.43.28_live_stream-.mp4: 512x640 (no detections), 7.8ms\n",
            "video 1/1 (112/501) /content/drive/MyDrive/vlc-record-2020-02-29-17h36m02s-rtmp___192.168.43.28_live_stream-.mp4: 512x640 (no detections), 7.9ms\n",
            "video 1/1 (113/501) /content/drive/MyDrive/vlc-record-2020-02-29-17h36m02s-rtmp___192.168.43.28_live_stream-.mp4: 512x640 (no detections), 7.8ms\n",
            "video 1/1 (114/501) /content/drive/MyDrive/vlc-record-2020-02-29-17h36m02s-rtmp___192.168.43.28_live_stream-.mp4: 512x640 (no detections), 8.7ms\n",
            "video 1/1 (115/501) /content/drive/MyDrive/vlc-record-2020-02-29-17h36m02s-rtmp___192.168.43.28_live_stream-.mp4: 512x640 (no detections), 7.7ms\n",
            "video 1/1 (116/501) /content/drive/MyDrive/vlc-record-2020-02-29-17h36m02s-rtmp___192.168.43.28_live_stream-.mp4: 512x640 (no detections), 7.4ms\n",
            "video 1/1 (117/501) /content/drive/MyDrive/vlc-record-2020-02-29-17h36m02s-rtmp___192.168.43.28_live_stream-.mp4: 512x640 (no detections), 9.8ms\n",
            "video 1/1 (118/501) /content/drive/MyDrive/vlc-record-2020-02-29-17h36m02s-rtmp___192.168.43.28_live_stream-.mp4: 512x640 (no detections), 7.9ms\n",
            "video 1/1 (119/501) /content/drive/MyDrive/vlc-record-2020-02-29-17h36m02s-rtmp___192.168.43.28_live_stream-.mp4: 512x640 (no detections), 7.9ms\n",
            "video 1/1 (120/501) /content/drive/MyDrive/vlc-record-2020-02-29-17h36m02s-rtmp___192.168.43.28_live_stream-.mp4: 512x640 (no detections), 8.7ms\n",
            "video 1/1 (121/501) /content/drive/MyDrive/vlc-record-2020-02-29-17h36m02s-rtmp___192.168.43.28_live_stream-.mp4: 512x640 (no detections), 7.8ms\n",
            "video 1/1 (122/501) /content/drive/MyDrive/vlc-record-2020-02-29-17h36m02s-rtmp___192.168.43.28_live_stream-.mp4: 512x640 (no detections), 7.6ms\n",
            "video 1/1 (123/501) /content/drive/MyDrive/vlc-record-2020-02-29-17h36m02s-rtmp___192.168.43.28_live_stream-.mp4: 512x640 (no detections), 8.0ms\n",
            "video 1/1 (124/501) /content/drive/MyDrive/vlc-record-2020-02-29-17h36m02s-rtmp___192.168.43.28_live_stream-.mp4: 512x640 (no detections), 8.0ms\n",
            "video 1/1 (125/501) /content/drive/MyDrive/vlc-record-2020-02-29-17h36m02s-rtmp___192.168.43.28_live_stream-.mp4: 512x640 (no detections), 7.6ms\n",
            "video 1/1 (126/501) /content/drive/MyDrive/vlc-record-2020-02-29-17h36m02s-rtmp___192.168.43.28_live_stream-.mp4: 512x640 (no detections), 7.6ms\n",
            "video 1/1 (127/501) /content/drive/MyDrive/vlc-record-2020-02-29-17h36m02s-rtmp___192.168.43.28_live_stream-.mp4: 512x640 (no detections), 7.6ms\n",
            "video 1/1 (128/501) /content/drive/MyDrive/vlc-record-2020-02-29-17h36m02s-rtmp___192.168.43.28_live_stream-.mp4: 512x640 (no detections), 9.9ms\n",
            "video 1/1 (129/501) /content/drive/MyDrive/vlc-record-2020-02-29-17h36m02s-rtmp___192.168.43.28_live_stream-.mp4: 512x640 (no detections), 8.0ms\n",
            "video 1/1 (130/501) /content/drive/MyDrive/vlc-record-2020-02-29-17h36m02s-rtmp___192.168.43.28_live_stream-.mp4: 512x640 (no detections), 12.0ms\n",
            "video 1/1 (131/501) /content/drive/MyDrive/vlc-record-2020-02-29-17h36m02s-rtmp___192.168.43.28_live_stream-.mp4: 512x640 (no detections), 8.2ms\n",
            "video 1/1 (132/501) /content/drive/MyDrive/vlc-record-2020-02-29-17h36m02s-rtmp___192.168.43.28_live_stream-.mp4: 512x640 (no detections), 8.0ms\n",
            "video 1/1 (133/501) /content/drive/MyDrive/vlc-record-2020-02-29-17h36m02s-rtmp___192.168.43.28_live_stream-.mp4: 512x640 (no detections), 9.0ms\n",
            "video 1/1 (134/501) /content/drive/MyDrive/vlc-record-2020-02-29-17h36m02s-rtmp___192.168.43.28_live_stream-.mp4: 512x640 (no detections), 7.9ms\n",
            "video 1/1 (135/501) /content/drive/MyDrive/vlc-record-2020-02-29-17h36m02s-rtmp___192.168.43.28_live_stream-.mp4: 512x640 (no detections), 8.2ms\n",
            "video 1/1 (136/501) /content/drive/MyDrive/vlc-record-2020-02-29-17h36m02s-rtmp___192.168.43.28_live_stream-.mp4: 512x640 (no detections), 8.5ms\n",
            "video 1/1 (137/501) /content/drive/MyDrive/vlc-record-2020-02-29-17h36m02s-rtmp___192.168.43.28_live_stream-.mp4: 512x640 (no detections), 7.6ms\n",
            "video 1/1 (138/501) /content/drive/MyDrive/vlc-record-2020-02-29-17h36m02s-rtmp___192.168.43.28_live_stream-.mp4: 512x640 (no detections), 13.3ms\n",
            "video 1/1 (139/501) /content/drive/MyDrive/vlc-record-2020-02-29-17h36m02s-rtmp___192.168.43.28_live_stream-.mp4: 512x640 (no detections), 8.3ms\n",
            "video 1/1 (140/501) /content/drive/MyDrive/vlc-record-2020-02-29-17h36m02s-rtmp___192.168.43.28_live_stream-.mp4: 512x640 (no detections), 8.4ms\n",
            "video 1/1 (141/501) /content/drive/MyDrive/vlc-record-2020-02-29-17h36m02s-rtmp___192.168.43.28_live_stream-.mp4: 512x640 (no detections), 7.6ms\n",
            "video 1/1 (142/501) /content/drive/MyDrive/vlc-record-2020-02-29-17h36m02s-rtmp___192.168.43.28_live_stream-.mp4: 512x640 (no detections), 7.6ms\n",
            "video 1/1 (143/501) /content/drive/MyDrive/vlc-record-2020-02-29-17h36m02s-rtmp___192.168.43.28_live_stream-.mp4: 512x640 (no detections), 7.7ms\n",
            "video 1/1 (144/501) /content/drive/MyDrive/vlc-record-2020-02-29-17h36m02s-rtmp___192.168.43.28_live_stream-.mp4: 512x640 (no detections), 9.2ms\n",
            "video 1/1 (145/501) /content/drive/MyDrive/vlc-record-2020-02-29-17h36m02s-rtmp___192.168.43.28_live_stream-.mp4: 512x640 (no detections), 7.7ms\n",
            "video 1/1 (146/501) /content/drive/MyDrive/vlc-record-2020-02-29-17h36m02s-rtmp___192.168.43.28_live_stream-.mp4: 512x640 (no detections), 9.1ms\n",
            "video 1/1 (147/501) /content/drive/MyDrive/vlc-record-2020-02-29-17h36m02s-rtmp___192.168.43.28_live_stream-.mp4: 512x640 (no detections), 8.1ms\n",
            "video 1/1 (148/501) /content/drive/MyDrive/vlc-record-2020-02-29-17h36m02s-rtmp___192.168.43.28_live_stream-.mp4: 512x640 (no detections), 7.7ms\n",
            "video 1/1 (149/501) /content/drive/MyDrive/vlc-record-2020-02-29-17h36m02s-rtmp___192.168.43.28_live_stream-.mp4: 512x640 (no detections), 9.1ms\n",
            "video 1/1 (150/501) /content/drive/MyDrive/vlc-record-2020-02-29-17h36m02s-rtmp___192.168.43.28_live_stream-.mp4: 512x640 (no detections), 7.9ms\n",
            "video 1/1 (151/501) /content/drive/MyDrive/vlc-record-2020-02-29-17h36m02s-rtmp___192.168.43.28_live_stream-.mp4: 512x640 (no detections), 8.1ms\n",
            "video 1/1 (152/501) /content/drive/MyDrive/vlc-record-2020-02-29-17h36m02s-rtmp___192.168.43.28_live_stream-.mp4: 512x640 (no detections), 7.6ms\n",
            "video 1/1 (153/501) /content/drive/MyDrive/vlc-record-2020-02-29-17h36m02s-rtmp___192.168.43.28_live_stream-.mp4: 512x640 (no detections), 7.7ms\n",
            "video 1/1 (154/501) /content/drive/MyDrive/vlc-record-2020-02-29-17h36m02s-rtmp___192.168.43.28_live_stream-.mp4: 512x640 (no detections), 7.5ms\n",
            "video 1/1 (155/501) /content/drive/MyDrive/vlc-record-2020-02-29-17h36m02s-rtmp___192.168.43.28_live_stream-.mp4: 512x640 (no detections), 7.8ms\n",
            "video 1/1 (156/501) /content/drive/MyDrive/vlc-record-2020-02-29-17h36m02s-rtmp___192.168.43.28_live_stream-.mp4: 512x640 (no detections), 8.2ms\n",
            "video 1/1 (157/501) /content/drive/MyDrive/vlc-record-2020-02-29-17h36m02s-rtmp___192.168.43.28_live_stream-.mp4: 512x640 (no detections), 7.7ms\n",
            "video 1/1 (158/501) /content/drive/MyDrive/vlc-record-2020-02-29-17h36m02s-rtmp___192.168.43.28_live_stream-.mp4: 512x640 (no detections), 8.4ms\n",
            "video 1/1 (159/501) /content/drive/MyDrive/vlc-record-2020-02-29-17h36m02s-rtmp___192.168.43.28_live_stream-.mp4: 512x640 (no detections), 8.6ms\n",
            "video 1/1 (160/501) /content/drive/MyDrive/vlc-record-2020-02-29-17h36m02s-rtmp___192.168.43.28_live_stream-.mp4: 512x640 (no detections), 8.1ms\n",
            "video 1/1 (161/501) /content/drive/MyDrive/vlc-record-2020-02-29-17h36m02s-rtmp___192.168.43.28_live_stream-.mp4: 512x640 (no detections), 13.1ms\n",
            "video 1/1 (162/501) /content/drive/MyDrive/vlc-record-2020-02-29-17h36m02s-rtmp___192.168.43.28_live_stream-.mp4: 512x640 1 person, 7.7ms\n",
            "video 1/1 (163/501) /content/drive/MyDrive/vlc-record-2020-02-29-17h36m02s-rtmp___192.168.43.28_live_stream-.mp4: 512x640 (no detections), 8.6ms\n",
            "video 1/1 (164/501) /content/drive/MyDrive/vlc-record-2020-02-29-17h36m02s-rtmp___192.168.43.28_live_stream-.mp4: 512x640 (no detections), 8.2ms\n",
            "video 1/1 (165/501) /content/drive/MyDrive/vlc-record-2020-02-29-17h36m02s-rtmp___192.168.43.28_live_stream-.mp4: 512x640 (no detections), 8.4ms\n",
            "video 1/1 (166/501) /content/drive/MyDrive/vlc-record-2020-02-29-17h36m02s-rtmp___192.168.43.28_live_stream-.mp4: 512x640 (no detections), 8.4ms\n",
            "video 1/1 (167/501) /content/drive/MyDrive/vlc-record-2020-02-29-17h36m02s-rtmp___192.168.43.28_live_stream-.mp4: 512x640 (no detections), 8.8ms\n",
            "video 1/1 (168/501) /content/drive/MyDrive/vlc-record-2020-02-29-17h36m02s-rtmp___192.168.43.28_live_stream-.mp4: 512x640 (no detections), 7.8ms\n",
            "video 1/1 (169/501) /content/drive/MyDrive/vlc-record-2020-02-29-17h36m02s-rtmp___192.168.43.28_live_stream-.mp4: 512x640 (no detections), 8.3ms\n",
            "video 1/1 (170/501) /content/drive/MyDrive/vlc-record-2020-02-29-17h36m02s-rtmp___192.168.43.28_live_stream-.mp4: 512x640 (no detections), 8.1ms\n",
            "video 1/1 (171/501) /content/drive/MyDrive/vlc-record-2020-02-29-17h36m02s-rtmp___192.168.43.28_live_stream-.mp4: 512x640 (no detections), 11.9ms\n",
            "video 1/1 (172/501) /content/drive/MyDrive/vlc-record-2020-02-29-17h36m02s-rtmp___192.168.43.28_live_stream-.mp4: 512x640 (no detections), 8.4ms\n",
            "video 1/1 (173/501) /content/drive/MyDrive/vlc-record-2020-02-29-17h36m02s-rtmp___192.168.43.28_live_stream-.mp4: 512x640 (no detections), 8.4ms\n",
            "video 1/1 (174/501) /content/drive/MyDrive/vlc-record-2020-02-29-17h36m02s-rtmp___192.168.43.28_live_stream-.mp4: 512x640 (no detections), 8.3ms\n",
            "video 1/1 (175/501) /content/drive/MyDrive/vlc-record-2020-02-29-17h36m02s-rtmp___192.168.43.28_live_stream-.mp4: 512x640 (no detections), 8.1ms\n",
            "video 1/1 (176/501) /content/drive/MyDrive/vlc-record-2020-02-29-17h36m02s-rtmp___192.168.43.28_live_stream-.mp4: 512x640 (no detections), 8.2ms\n",
            "video 1/1 (177/501) /content/drive/MyDrive/vlc-record-2020-02-29-17h36m02s-rtmp___192.168.43.28_live_stream-.mp4: 512x640 (no detections), 8.3ms\n",
            "video 1/1 (178/501) /content/drive/MyDrive/vlc-record-2020-02-29-17h36m02s-rtmp___192.168.43.28_live_stream-.mp4: 512x640 (no detections), 10.2ms\n",
            "video 1/1 (179/501) /content/drive/MyDrive/vlc-record-2020-02-29-17h36m02s-rtmp___192.168.43.28_live_stream-.mp4: 512x640 (no detections), 8.1ms\n",
            "video 1/1 (180/501) /content/drive/MyDrive/vlc-record-2020-02-29-17h36m02s-rtmp___192.168.43.28_live_stream-.mp4: 512x640 (no detections), 9.0ms\n",
            "video 1/1 (181/501) /content/drive/MyDrive/vlc-record-2020-02-29-17h36m02s-rtmp___192.168.43.28_live_stream-.mp4: 512x640 (no detections), 12.6ms\n",
            "video 1/1 (182/501) /content/drive/MyDrive/vlc-record-2020-02-29-17h36m02s-rtmp___192.168.43.28_live_stream-.mp4: 512x640 (no detections), 8.0ms\n",
            "video 1/1 (183/501) /content/drive/MyDrive/vlc-record-2020-02-29-17h36m02s-rtmp___192.168.43.28_live_stream-.mp4: 512x640 (no detections), 8.5ms\n",
            "video 1/1 (184/501) /content/drive/MyDrive/vlc-record-2020-02-29-17h36m02s-rtmp___192.168.43.28_live_stream-.mp4: 512x640 (no detections), 7.8ms\n",
            "video 1/1 (185/501) /content/drive/MyDrive/vlc-record-2020-02-29-17h36m02s-rtmp___192.168.43.28_live_stream-.mp4: 512x640 (no detections), 8.1ms\n",
            "video 1/1 (186/501) /content/drive/MyDrive/vlc-record-2020-02-29-17h36m02s-rtmp___192.168.43.28_live_stream-.mp4: 512x640 (no detections), 8.6ms\n",
            "video 1/1 (187/501) /content/drive/MyDrive/vlc-record-2020-02-29-17h36m02s-rtmp___192.168.43.28_live_stream-.mp4: 512x640 (no detections), 7.9ms\n",
            "video 1/1 (188/501) /content/drive/MyDrive/vlc-record-2020-02-29-17h36m02s-rtmp___192.168.43.28_live_stream-.mp4: 512x640 1 motorcycle, 8.7ms\n",
            "video 1/1 (189/501) /content/drive/MyDrive/vlc-record-2020-02-29-17h36m02s-rtmp___192.168.43.28_live_stream-.mp4: 512x640 1 motorcycle, 15.4ms\n",
            "video 1/1 (190/501) /content/drive/MyDrive/vlc-record-2020-02-29-17h36m02s-rtmp___192.168.43.28_live_stream-.mp4: 512x640 (no detections), 11.2ms\n",
            "video 1/1 (191/501) /content/drive/MyDrive/vlc-record-2020-02-29-17h36m02s-rtmp___192.168.43.28_live_stream-.mp4: 512x640 (no detections), 7.6ms\n",
            "video 1/1 (192/501) /content/drive/MyDrive/vlc-record-2020-02-29-17h36m02s-rtmp___192.168.43.28_live_stream-.mp4: 512x640 (no detections), 7.9ms\n",
            "video 1/1 (193/501) /content/drive/MyDrive/vlc-record-2020-02-29-17h36m02s-rtmp___192.168.43.28_live_stream-.mp4: 512x640 1 car, 8.0ms\n",
            "video 1/1 (194/501) /content/drive/MyDrive/vlc-record-2020-02-29-17h36m02s-rtmp___192.168.43.28_live_stream-.mp4: 512x640 (no detections), 7.9ms\n",
            "video 1/1 (195/501) /content/drive/MyDrive/vlc-record-2020-02-29-17h36m02s-rtmp___192.168.43.28_live_stream-.mp4: 512x640 1 car, 8.4ms\n",
            "video 1/1 (196/501) /content/drive/MyDrive/vlc-record-2020-02-29-17h36m02s-rtmp___192.168.43.28_live_stream-.mp4: 512x640 (no detections), 10.1ms\n",
            "video 1/1 (197/501) /content/drive/MyDrive/vlc-record-2020-02-29-17h36m02s-rtmp___192.168.43.28_live_stream-.mp4: 512x640 (no detections), 7.7ms\n",
            "video 1/1 (198/501) /content/drive/MyDrive/vlc-record-2020-02-29-17h36m02s-rtmp___192.168.43.28_live_stream-.mp4: 512x640 (no detections), 7.8ms\n",
            "video 1/1 (199/501) /content/drive/MyDrive/vlc-record-2020-02-29-17h36m02s-rtmp___192.168.43.28_live_stream-.mp4: 512x640 1 car, 7.7ms\n",
            "video 1/1 (200/501) /content/drive/MyDrive/vlc-record-2020-02-29-17h36m02s-rtmp___192.168.43.28_live_stream-.mp4: 512x640 (no detections), 8.3ms\n",
            "video 1/1 (201/501) /content/drive/MyDrive/vlc-record-2020-02-29-17h36m02s-rtmp___192.168.43.28_live_stream-.mp4: 512x640 (no detections), 7.7ms\n",
            "video 1/1 (202/501) /content/drive/MyDrive/vlc-record-2020-02-29-17h36m02s-rtmp___192.168.43.28_live_stream-.mp4: 512x640 (no detections), 7.7ms\n",
            "video 1/1 (203/501) /content/drive/MyDrive/vlc-record-2020-02-29-17h36m02s-rtmp___192.168.43.28_live_stream-.mp4: 512x640 (no detections), 8.0ms\n",
            "video 1/1 (204/501) /content/drive/MyDrive/vlc-record-2020-02-29-17h36m02s-rtmp___192.168.43.28_live_stream-.mp4: 512x640 (no detections), 9.3ms\n",
            "video 1/1 (205/501) /content/drive/MyDrive/vlc-record-2020-02-29-17h36m02s-rtmp___192.168.43.28_live_stream-.mp4: 512x640 (no detections), 9.4ms\n",
            "video 1/1 (206/501) /content/drive/MyDrive/vlc-record-2020-02-29-17h36m02s-rtmp___192.168.43.28_live_stream-.mp4: 512x640 (no detections), 7.7ms\n",
            "video 1/1 (207/501) /content/drive/MyDrive/vlc-record-2020-02-29-17h36m02s-rtmp___192.168.43.28_live_stream-.mp4: 512x640 (no detections), 8.6ms\n",
            "video 1/1 (208/501) /content/drive/MyDrive/vlc-record-2020-02-29-17h36m02s-rtmp___192.168.43.28_live_stream-.mp4: 512x640 (no detections), 7.9ms\n",
            "video 1/1 (209/501) /content/drive/MyDrive/vlc-record-2020-02-29-17h36m02s-rtmp___192.168.43.28_live_stream-.mp4: 512x640 (no detections), 7.4ms\n",
            "video 1/1 (210/501) /content/drive/MyDrive/vlc-record-2020-02-29-17h36m02s-rtmp___192.168.43.28_live_stream-.mp4: 512x640 (no detections), 8.0ms\n",
            "video 1/1 (211/501) /content/drive/MyDrive/vlc-record-2020-02-29-17h36m02s-rtmp___192.168.43.28_live_stream-.mp4: 512x640 (no detections), 7.9ms\n",
            "video 1/1 (212/501) /content/drive/MyDrive/vlc-record-2020-02-29-17h36m02s-rtmp___192.168.43.28_live_stream-.mp4: 512x640 (no detections), 9.9ms\n",
            "video 1/1 (213/501) /content/drive/MyDrive/vlc-record-2020-02-29-17h36m02s-rtmp___192.168.43.28_live_stream-.mp4: 512x640 (no detections), 8.1ms\n",
            "video 1/1 (214/501) /content/drive/MyDrive/vlc-record-2020-02-29-17h36m02s-rtmp___192.168.43.28_live_stream-.mp4: 512x640 (no detections), 8.1ms\n",
            "video 1/1 (215/501) /content/drive/MyDrive/vlc-record-2020-02-29-17h36m02s-rtmp___192.168.43.28_live_stream-.mp4: 512x640 (no detections), 7.6ms\n",
            "video 1/1 (216/501) /content/drive/MyDrive/vlc-record-2020-02-29-17h36m02s-rtmp___192.168.43.28_live_stream-.mp4: 512x640 (no detections), 8.0ms\n",
            "video 1/1 (217/501) /content/drive/MyDrive/vlc-record-2020-02-29-17h36m02s-rtmp___192.168.43.28_live_stream-.mp4: 512x640 (no detections), 7.5ms\n",
            "video 1/1 (218/501) /content/drive/MyDrive/vlc-record-2020-02-29-17h36m02s-rtmp___192.168.43.28_live_stream-.mp4: 512x640 (no detections), 7.8ms\n",
            "video 1/1 (219/501) /content/drive/MyDrive/vlc-record-2020-02-29-17h36m02s-rtmp___192.168.43.28_live_stream-.mp4: 512x640 (no detections), 8.0ms\n",
            "video 1/1 (220/501) /content/drive/MyDrive/vlc-record-2020-02-29-17h36m02s-rtmp___192.168.43.28_live_stream-.mp4: 512x640 (no detections), 8.4ms\n",
            "video 1/1 (221/501) /content/drive/MyDrive/vlc-record-2020-02-29-17h36m02s-rtmp___192.168.43.28_live_stream-.mp4: 512x640 (no detections), 12.8ms\n",
            "video 1/1 (222/501) /content/drive/MyDrive/vlc-record-2020-02-29-17h36m02s-rtmp___192.168.43.28_live_stream-.mp4: 512x640 (no detections), 10.7ms\n",
            "video 1/1 (223/501) /content/drive/MyDrive/vlc-record-2020-02-29-17h36m02s-rtmp___192.168.43.28_live_stream-.mp4: 512x640 (no detections), 7.8ms\n",
            "video 1/1 (224/501) /content/drive/MyDrive/vlc-record-2020-02-29-17h36m02s-rtmp___192.168.43.28_live_stream-.mp4: 512x640 (no detections), 7.7ms\n",
            "video 1/1 (225/501) /content/drive/MyDrive/vlc-record-2020-02-29-17h36m02s-rtmp___192.168.43.28_live_stream-.mp4: 512x640 (no detections), 10.2ms\n",
            "video 1/1 (226/501) /content/drive/MyDrive/vlc-record-2020-02-29-17h36m02s-rtmp___192.168.43.28_live_stream-.mp4: 512x640 (no detections), 7.8ms\n",
            "video 1/1 (227/501) /content/drive/MyDrive/vlc-record-2020-02-29-17h36m02s-rtmp___192.168.43.28_live_stream-.mp4: 512x640 (no detections), 8.2ms\n",
            "video 1/1 (228/501) /content/drive/MyDrive/vlc-record-2020-02-29-17h36m02s-rtmp___192.168.43.28_live_stream-.mp4: 512x640 (no detections), 8.0ms\n",
            "video 1/1 (229/501) /content/drive/MyDrive/vlc-record-2020-02-29-17h36m02s-rtmp___192.168.43.28_live_stream-.mp4: 512x640 (no detections), 13.7ms\n",
            "video 1/1 (230/501) /content/drive/MyDrive/vlc-record-2020-02-29-17h36m02s-rtmp___192.168.43.28_live_stream-.mp4: 512x640 (no detections), 14.0ms\n",
            "video 1/1 (231/501) /content/drive/MyDrive/vlc-record-2020-02-29-17h36m02s-rtmp___192.168.43.28_live_stream-.mp4: 512x640 (no detections), 12.9ms\n",
            "video 1/1 (232/501) /content/drive/MyDrive/vlc-record-2020-02-29-17h36m02s-rtmp___192.168.43.28_live_stream-.mp4: 512x640 (no detections), 10.9ms\n",
            "video 1/1 (233/501) /content/drive/MyDrive/vlc-record-2020-02-29-17h36m02s-rtmp___192.168.43.28_live_stream-.mp4: 512x640 (no detections), 11.6ms\n",
            "video 1/1 (234/501) /content/drive/MyDrive/vlc-record-2020-02-29-17h36m02s-rtmp___192.168.43.28_live_stream-.mp4: 512x640 (no detections), 13.4ms\n",
            "video 1/1 (235/501) /content/drive/MyDrive/vlc-record-2020-02-29-17h36m02s-rtmp___192.168.43.28_live_stream-.mp4: 512x640 (no detections), 12.2ms\n",
            "video 1/1 (236/501) /content/drive/MyDrive/vlc-record-2020-02-29-17h36m02s-rtmp___192.168.43.28_live_stream-.mp4: 512x640 (no detections), 12.0ms\n",
            "video 1/1 (237/501) /content/drive/MyDrive/vlc-record-2020-02-29-17h36m02s-rtmp___192.168.43.28_live_stream-.mp4: 512x640 (no detections), 12.2ms\n",
            "video 1/1 (238/501) /content/drive/MyDrive/vlc-record-2020-02-29-17h36m02s-rtmp___192.168.43.28_live_stream-.mp4: 512x640 (no detections), 13.1ms\n",
            "video 1/1 (239/501) /content/drive/MyDrive/vlc-record-2020-02-29-17h36m02s-rtmp___192.168.43.28_live_stream-.mp4: 512x640 (no detections), 11.1ms\n",
            "video 1/1 (240/501) /content/drive/MyDrive/vlc-record-2020-02-29-17h36m02s-rtmp___192.168.43.28_live_stream-.mp4: 512x640 (no detections), 13.4ms\n",
            "video 1/1 (241/501) /content/drive/MyDrive/vlc-record-2020-02-29-17h36m02s-rtmp___192.168.43.28_live_stream-.mp4: 512x640 (no detections), 14.3ms\n",
            "video 1/1 (242/501) /content/drive/MyDrive/vlc-record-2020-02-29-17h36m02s-rtmp___192.168.43.28_live_stream-.mp4: 512x640 (no detections), 10.6ms\n",
            "video 1/1 (243/501) /content/drive/MyDrive/vlc-record-2020-02-29-17h36m02s-rtmp___192.168.43.28_live_stream-.mp4: 512x640 (no detections), 16.5ms\n",
            "video 1/1 (244/501) /content/drive/MyDrive/vlc-record-2020-02-29-17h36m02s-rtmp___192.168.43.28_live_stream-.mp4: 512x640 (no detections), 12.4ms\n",
            "video 1/1 (245/501) /content/drive/MyDrive/vlc-record-2020-02-29-17h36m02s-rtmp___192.168.43.28_live_stream-.mp4: 512x640 (no detections), 13.2ms\n",
            "video 1/1 (246/501) /content/drive/MyDrive/vlc-record-2020-02-29-17h36m02s-rtmp___192.168.43.28_live_stream-.mp4: 512x640 (no detections), 10.4ms\n",
            "video 1/1 (247/501) /content/drive/MyDrive/vlc-record-2020-02-29-17h36m02s-rtmp___192.168.43.28_live_stream-.mp4: 512x640 (no detections), 11.2ms\n",
            "video 1/1 (248/501) /content/drive/MyDrive/vlc-record-2020-02-29-17h36m02s-rtmp___192.168.43.28_live_stream-.mp4: 512x640 (no detections), 10.7ms\n",
            "video 1/1 (249/501) /content/drive/MyDrive/vlc-record-2020-02-29-17h36m02s-rtmp___192.168.43.28_live_stream-.mp4: 512x640 (no detections), 10.6ms\n",
            "video 1/1 (250/501) /content/drive/MyDrive/vlc-record-2020-02-29-17h36m02s-rtmp___192.168.43.28_live_stream-.mp4: 512x640 (no detections), 10.5ms\n",
            "video 1/1 (251/501) /content/drive/MyDrive/vlc-record-2020-02-29-17h36m02s-rtmp___192.168.43.28_live_stream-.mp4: 512x640 (no detections), 13.0ms\n",
            "video 1/1 (252/501) /content/drive/MyDrive/vlc-record-2020-02-29-17h36m02s-rtmp___192.168.43.28_live_stream-.mp4: 512x640 (no detections), 11.4ms\n",
            "video 1/1 (253/501) /content/drive/MyDrive/vlc-record-2020-02-29-17h36m02s-rtmp___192.168.43.28_live_stream-.mp4: 512x640 (no detections), 11.0ms\n",
            "video 1/1 (254/501) /content/drive/MyDrive/vlc-record-2020-02-29-17h36m02s-rtmp___192.168.43.28_live_stream-.mp4: 512x640 1 motorcycle, 10.8ms\n",
            "video 1/1 (255/501) /content/drive/MyDrive/vlc-record-2020-02-29-17h36m02s-rtmp___192.168.43.28_live_stream-.mp4: 512x640 (no detections), 10.9ms\n",
            "video 1/1 (256/501) /content/drive/MyDrive/vlc-record-2020-02-29-17h36m02s-rtmp___192.168.43.28_live_stream-.mp4: 512x640 (no detections), 11.2ms\n",
            "video 1/1 (257/501) /content/drive/MyDrive/vlc-record-2020-02-29-17h36m02s-rtmp___192.168.43.28_live_stream-.mp4: 512x640 1 motorcycle, 10.9ms\n",
            "video 1/1 (258/501) /content/drive/MyDrive/vlc-record-2020-02-29-17h36m02s-rtmp___192.168.43.28_live_stream-.mp4: 512x640 1 car, 2 motorcycles, 10.9ms\n",
            "video 1/1 (259/501) /content/drive/MyDrive/vlc-record-2020-02-29-17h36m02s-rtmp___192.168.43.28_live_stream-.mp4: 512x640 2 motorcycles, 11.0ms\n",
            "video 1/1 (260/501) /content/drive/MyDrive/vlc-record-2020-02-29-17h36m02s-rtmp___192.168.43.28_live_stream-.mp4: 512x640 1 motorcycle, 10.5ms\n",
            "video 1/1 (261/501) /content/drive/MyDrive/vlc-record-2020-02-29-17h36m02s-rtmp___192.168.43.28_live_stream-.mp4: 512x640 (no detections), 11.8ms\n",
            "video 1/1 (262/501) /content/drive/MyDrive/vlc-record-2020-02-29-17h36m02s-rtmp___192.168.43.28_live_stream-.mp4: 512x640 (no detections), 14.8ms\n",
            "video 1/1 (263/501) /content/drive/MyDrive/vlc-record-2020-02-29-17h36m02s-rtmp___192.168.43.28_live_stream-.mp4: 512x640 1 motorcycle, 14.2ms\n",
            "video 1/1 (264/501) /content/drive/MyDrive/vlc-record-2020-02-29-17h36m02s-rtmp___192.168.43.28_live_stream-.mp4: 512x640 1 motorcycle, 23.4ms\n",
            "video 1/1 (265/501) /content/drive/MyDrive/vlc-record-2020-02-29-17h36m02s-rtmp___192.168.43.28_live_stream-.mp4: 512x640 1 motorcycle, 11.0ms\n",
            "video 1/1 (266/501) /content/drive/MyDrive/vlc-record-2020-02-29-17h36m02s-rtmp___192.168.43.28_live_stream-.mp4: 512x640 1 motorcycle, 11.2ms\n",
            "video 1/1 (267/501) /content/drive/MyDrive/vlc-record-2020-02-29-17h36m02s-rtmp___192.168.43.28_live_stream-.mp4: 512x640 (no detections), 11.0ms\n",
            "video 1/1 (268/501) /content/drive/MyDrive/vlc-record-2020-02-29-17h36m02s-rtmp___192.168.43.28_live_stream-.mp4: 512x640 (no detections), 10.8ms\n",
            "video 1/1 (269/501) /content/drive/MyDrive/vlc-record-2020-02-29-17h36m02s-rtmp___192.168.43.28_live_stream-.mp4: 512x640 (no detections), 10.7ms\n",
            "video 1/1 (270/501) /content/drive/MyDrive/vlc-record-2020-02-29-17h36m02s-rtmp___192.168.43.28_live_stream-.mp4: 512x640 (no detections), 13.7ms\n",
            "video 1/1 (271/501) /content/drive/MyDrive/vlc-record-2020-02-29-17h36m02s-rtmp___192.168.43.28_live_stream-.mp4: 512x640 (no detections), 17.5ms\n",
            "video 1/1 (272/501) /content/drive/MyDrive/vlc-record-2020-02-29-17h36m02s-rtmp___192.168.43.28_live_stream-.mp4: 512x640 (no detections), 18.3ms\n",
            "video 1/1 (273/501) /content/drive/MyDrive/vlc-record-2020-02-29-17h36m02s-rtmp___192.168.43.28_live_stream-.mp4: 512x640 (no detections), 17.4ms\n",
            "video 1/1 (274/501) /content/drive/MyDrive/vlc-record-2020-02-29-17h36m02s-rtmp___192.168.43.28_live_stream-.mp4: 512x640 (no detections), 10.7ms\n",
            "video 1/1 (275/501) /content/drive/MyDrive/vlc-record-2020-02-29-17h36m02s-rtmp___192.168.43.28_live_stream-.mp4: 512x640 (no detections), 11.1ms\n",
            "video 1/1 (276/501) /content/drive/MyDrive/vlc-record-2020-02-29-17h36m02s-rtmp___192.168.43.28_live_stream-.mp4: 512x640 (no detections), 11.7ms\n",
            "video 1/1 (277/501) /content/drive/MyDrive/vlc-record-2020-02-29-17h36m02s-rtmp___192.168.43.28_live_stream-.mp4: 512x640 (no detections), 11.1ms\n",
            "video 1/1 (278/501) /content/drive/MyDrive/vlc-record-2020-02-29-17h36m02s-rtmp___192.168.43.28_live_stream-.mp4: 512x640 (no detections), 10.1ms\n",
            "video 1/1 (279/501) /content/drive/MyDrive/vlc-record-2020-02-29-17h36m02s-rtmp___192.168.43.28_live_stream-.mp4: 512x640 (no detections), 10.1ms\n",
            "video 1/1 (280/501) /content/drive/MyDrive/vlc-record-2020-02-29-17h36m02s-rtmp___192.168.43.28_live_stream-.mp4: 512x640 (no detections), 10.4ms\n",
            "video 1/1 (281/501) /content/drive/MyDrive/vlc-record-2020-02-29-17h36m02s-rtmp___192.168.43.28_live_stream-.mp4: 512x640 (no detections), 12.1ms\n",
            "video 1/1 (282/501) /content/drive/MyDrive/vlc-record-2020-02-29-17h36m02s-rtmp___192.168.43.28_live_stream-.mp4: 512x640 (no detections), 13.2ms\n",
            "video 1/1 (283/501) /content/drive/MyDrive/vlc-record-2020-02-29-17h36m02s-rtmp___192.168.43.28_live_stream-.mp4: 512x640 (no detections), 16.0ms\n",
            "video 1/1 (284/501) /content/drive/MyDrive/vlc-record-2020-02-29-17h36m02s-rtmp___192.168.43.28_live_stream-.mp4: 512x640 1 car, 16.1ms\n",
            "video 1/1 (285/501) /content/drive/MyDrive/vlc-record-2020-02-29-17h36m02s-rtmp___192.168.43.28_live_stream-.mp4: 512x640 (no detections), 12.9ms\n",
            "video 1/1 (286/501) /content/drive/MyDrive/vlc-record-2020-02-29-17h36m02s-rtmp___192.168.43.28_live_stream-.mp4: 512x640 (no detections), 10.3ms\n",
            "video 1/1 (287/501) /content/drive/MyDrive/vlc-record-2020-02-29-17h36m02s-rtmp___192.168.43.28_live_stream-.mp4: 512x640 (no detections), 11.9ms\n",
            "video 1/1 (288/501) /content/drive/MyDrive/vlc-record-2020-02-29-17h36m02s-rtmp___192.168.43.28_live_stream-.mp4: 512x640 1 car, 11.2ms\n",
            "video 1/1 (289/501) /content/drive/MyDrive/vlc-record-2020-02-29-17h36m02s-rtmp___192.168.43.28_live_stream-.mp4: 512x640 1 car, 11.1ms\n",
            "video 1/1 (290/501) /content/drive/MyDrive/vlc-record-2020-02-29-17h36m02s-rtmp___192.168.43.28_live_stream-.mp4: 512x640 1 car, 11.1ms\n",
            "video 1/1 (291/501) /content/drive/MyDrive/vlc-record-2020-02-29-17h36m02s-rtmp___192.168.43.28_live_stream-.mp4: 512x640 1 car, 10.7ms\n",
            "video 1/1 (292/501) /content/drive/MyDrive/vlc-record-2020-02-29-17h36m02s-rtmp___192.168.43.28_live_stream-.mp4: 512x640 1 car, 11.0ms\n",
            "video 1/1 (293/501) /content/drive/MyDrive/vlc-record-2020-02-29-17h36m02s-rtmp___192.168.43.28_live_stream-.mp4: 512x640 1 car, 10.9ms\n",
            "video 1/1 (294/501) /content/drive/MyDrive/vlc-record-2020-02-29-17h36m02s-rtmp___192.168.43.28_live_stream-.mp4: 512x640 (no detections), 10.1ms\n",
            "video 1/1 (295/501) /content/drive/MyDrive/vlc-record-2020-02-29-17h36m02s-rtmp___192.168.43.28_live_stream-.mp4: 512x640 1 car, 10.2ms\n",
            "video 1/1 (296/501) /content/drive/MyDrive/vlc-record-2020-02-29-17h36m02s-rtmp___192.168.43.28_live_stream-.mp4: 512x640 1 car, 10.3ms\n",
            "video 1/1 (297/501) /content/drive/MyDrive/vlc-record-2020-02-29-17h36m02s-rtmp___192.168.43.28_live_stream-.mp4: 512x640 1 car, 10.0ms\n",
            "video 1/1 (298/501) /content/drive/MyDrive/vlc-record-2020-02-29-17h36m02s-rtmp___192.168.43.28_live_stream-.mp4: 512x640 (no detections), 10.4ms\n",
            "video 1/1 (299/501) /content/drive/MyDrive/vlc-record-2020-02-29-17h36m02s-rtmp___192.168.43.28_live_stream-.mp4: 512x640 (no detections), 10.3ms\n",
            "video 1/1 (300/501) /content/drive/MyDrive/vlc-record-2020-02-29-17h36m02s-rtmp___192.168.43.28_live_stream-.mp4: 512x640 (no detections), 10.9ms\n",
            "video 1/1 (301/501) /content/drive/MyDrive/vlc-record-2020-02-29-17h36m02s-rtmp___192.168.43.28_live_stream-.mp4: 512x640 (no detections), 11.0ms\n",
            "video 1/1 (302/501) /content/drive/MyDrive/vlc-record-2020-02-29-17h36m02s-rtmp___192.168.43.28_live_stream-.mp4: 512x640 (no detections), 9.9ms\n",
            "video 1/1 (303/501) /content/drive/MyDrive/vlc-record-2020-02-29-17h36m02s-rtmp___192.168.43.28_live_stream-.mp4: 512x640 (no detections), 10.4ms\n",
            "video 1/1 (304/501) /content/drive/MyDrive/vlc-record-2020-02-29-17h36m02s-rtmp___192.168.43.28_live_stream-.mp4: 512x640 (no detections), 10.1ms\n",
            "video 1/1 (305/501) /content/drive/MyDrive/vlc-record-2020-02-29-17h36m02s-rtmp___192.168.43.28_live_stream-.mp4: 512x640 (no detections), 12.1ms\n",
            "video 1/1 (306/501) /content/drive/MyDrive/vlc-record-2020-02-29-17h36m02s-rtmp___192.168.43.28_live_stream-.mp4: 512x640 (no detections), 11.7ms\n",
            "video 1/1 (307/501) /content/drive/MyDrive/vlc-record-2020-02-29-17h36m02s-rtmp___192.168.43.28_live_stream-.mp4: 512x640 (no detections), 11.7ms\n",
            "video 1/1 (308/501) /content/drive/MyDrive/vlc-record-2020-02-29-17h36m02s-rtmp___192.168.43.28_live_stream-.mp4: 512x640 (no detections), 10.4ms\n",
            "video 1/1 (309/501) /content/drive/MyDrive/vlc-record-2020-02-29-17h36m02s-rtmp___192.168.43.28_live_stream-.mp4: 512x640 (no detections), 10.3ms\n",
            "video 1/1 (310/501) /content/drive/MyDrive/vlc-record-2020-02-29-17h36m02s-rtmp___192.168.43.28_live_stream-.mp4: 512x640 (no detections), 17.6ms\n",
            "video 1/1 (311/501) /content/drive/MyDrive/vlc-record-2020-02-29-17h36m02s-rtmp___192.168.43.28_live_stream-.mp4: 512x640 (no detections), 10.5ms\n",
            "video 1/1 (312/501) /content/drive/MyDrive/vlc-record-2020-02-29-17h36m02s-rtmp___192.168.43.28_live_stream-.mp4: 512x640 (no detections), 9.9ms\n",
            "video 1/1 (313/501) /content/drive/MyDrive/vlc-record-2020-02-29-17h36m02s-rtmp___192.168.43.28_live_stream-.mp4: 512x640 (no detections), 12.9ms\n",
            "video 1/1 (314/501) /content/drive/MyDrive/vlc-record-2020-02-29-17h36m02s-rtmp___192.168.43.28_live_stream-.mp4: 512x640 (no detections), 15.6ms\n",
            "video 1/1 (315/501) /content/drive/MyDrive/vlc-record-2020-02-29-17h36m02s-rtmp___192.168.43.28_live_stream-.mp4: 512x640 (no detections), 12.0ms\n",
            "video 1/1 (316/501) /content/drive/MyDrive/vlc-record-2020-02-29-17h36m02s-rtmp___192.168.43.28_live_stream-.mp4: 512x640 (no detections), 10.3ms\n",
            "video 1/1 (317/501) /content/drive/MyDrive/vlc-record-2020-02-29-17h36m02s-rtmp___192.168.43.28_live_stream-.mp4: 512x640 (no detections), 10.5ms\n",
            "video 1/1 (318/501) /content/drive/MyDrive/vlc-record-2020-02-29-17h36m02s-rtmp___192.168.43.28_live_stream-.mp4: 512x640 (no detections), 10.5ms\n",
            "video 1/1 (319/501) /content/drive/MyDrive/vlc-record-2020-02-29-17h36m02s-rtmp___192.168.43.28_live_stream-.mp4: 512x640 (no detections), 11.8ms\n",
            "video 1/1 (320/501) /content/drive/MyDrive/vlc-record-2020-02-29-17h36m02s-rtmp___192.168.43.28_live_stream-.mp4: 512x640 (no detections), 14.6ms\n",
            "video 1/1 (321/501) /content/drive/MyDrive/vlc-record-2020-02-29-17h36m02s-rtmp___192.168.43.28_live_stream-.mp4: 512x640 (no detections), 10.7ms\n",
            "video 1/1 (322/501) /content/drive/MyDrive/vlc-record-2020-02-29-17h36m02s-rtmp___192.168.43.28_live_stream-.mp4: 512x640 (no detections), 10.2ms\n",
            "video 1/1 (323/501) /content/drive/MyDrive/vlc-record-2020-02-29-17h36m02s-rtmp___192.168.43.28_live_stream-.mp4: 512x640 (no detections), 10.4ms\n",
            "video 1/1 (324/501) /content/drive/MyDrive/vlc-record-2020-02-29-17h36m02s-rtmp___192.168.43.28_live_stream-.mp4: 512x640 (no detections), 11.0ms\n",
            "video 1/1 (325/501) /content/drive/MyDrive/vlc-record-2020-02-29-17h36m02s-rtmp___192.168.43.28_live_stream-.mp4: 512x640 (no detections), 11.0ms\n",
            "video 1/1 (326/501) /content/drive/MyDrive/vlc-record-2020-02-29-17h36m02s-rtmp___192.168.43.28_live_stream-.mp4: 512x640 (no detections), 11.4ms\n",
            "video 1/1 (327/501) /content/drive/MyDrive/vlc-record-2020-02-29-17h36m02s-rtmp___192.168.43.28_live_stream-.mp4: 512x640 (no detections), 13.9ms\n",
            "video 1/1 (328/501) /content/drive/MyDrive/vlc-record-2020-02-29-17h36m02s-rtmp___192.168.43.28_live_stream-.mp4: 512x640 (no detections), 10.9ms\n",
            "video 1/1 (329/501) /content/drive/MyDrive/vlc-record-2020-02-29-17h36m02s-rtmp___192.168.43.28_live_stream-.mp4: 512x640 (no detections), 10.7ms\n",
            "video 1/1 (330/501) /content/drive/MyDrive/vlc-record-2020-02-29-17h36m02s-rtmp___192.168.43.28_live_stream-.mp4: 512x640 (no detections), 19.5ms\n",
            "video 1/1 (331/501) /content/drive/MyDrive/vlc-record-2020-02-29-17h36m02s-rtmp___192.168.43.28_live_stream-.mp4: 512x640 (no detections), 10.6ms\n",
            "video 1/1 (332/501) /content/drive/MyDrive/vlc-record-2020-02-29-17h36m02s-rtmp___192.168.43.28_live_stream-.mp4: 512x640 (no detections), 10.5ms\n",
            "video 1/1 (333/501) /content/drive/MyDrive/vlc-record-2020-02-29-17h36m02s-rtmp___192.168.43.28_live_stream-.mp4: 512x640 (no detections), 12.1ms\n",
            "video 1/1 (334/501) /content/drive/MyDrive/vlc-record-2020-02-29-17h36m02s-rtmp___192.168.43.28_live_stream-.mp4: 512x640 (no detections), 11.5ms\n",
            "video 1/1 (335/501) /content/drive/MyDrive/vlc-record-2020-02-29-17h36m02s-rtmp___192.168.43.28_live_stream-.mp4: 512x640 (no detections), 11.1ms\n",
            "video 1/1 (336/501) /content/drive/MyDrive/vlc-record-2020-02-29-17h36m02s-rtmp___192.168.43.28_live_stream-.mp4: 512x640 (no detections), 11.2ms\n",
            "video 1/1 (337/501) /content/drive/MyDrive/vlc-record-2020-02-29-17h36m02s-rtmp___192.168.43.28_live_stream-.mp4: 512x640 (no detections), 10.2ms\n",
            "video 1/1 (338/501) /content/drive/MyDrive/vlc-record-2020-02-29-17h36m02s-rtmp___192.168.43.28_live_stream-.mp4: 512x640 (no detections), 13.9ms\n",
            "video 1/1 (339/501) /content/drive/MyDrive/vlc-record-2020-02-29-17h36m02s-rtmp___192.168.43.28_live_stream-.mp4: 512x640 (no detections), 12.2ms\n",
            "video 1/1 (340/501) /content/drive/MyDrive/vlc-record-2020-02-29-17h36m02s-rtmp___192.168.43.28_live_stream-.mp4: 512x640 (no detections), 16.8ms\n",
            "video 1/1 (341/501) /content/drive/MyDrive/vlc-record-2020-02-29-17h36m02s-rtmp___192.168.43.28_live_stream-.mp4: 512x640 (no detections), 14.5ms\n",
            "video 1/1 (342/501) /content/drive/MyDrive/vlc-record-2020-02-29-17h36m02s-rtmp___192.168.43.28_live_stream-.mp4: 512x640 (no detections), 12.0ms\n",
            "video 1/1 (343/501) /content/drive/MyDrive/vlc-record-2020-02-29-17h36m02s-rtmp___192.168.43.28_live_stream-.mp4: 512x640 (no detections), 16.7ms\n",
            "video 1/1 (344/501) /content/drive/MyDrive/vlc-record-2020-02-29-17h36m02s-rtmp___192.168.43.28_live_stream-.mp4: 512x640 (no detections), 11.4ms\n",
            "video 1/1 (345/501) /content/drive/MyDrive/vlc-record-2020-02-29-17h36m02s-rtmp___192.168.43.28_live_stream-.mp4: 512x640 (no detections), 14.3ms\n",
            "video 1/1 (346/501) /content/drive/MyDrive/vlc-record-2020-02-29-17h36m02s-rtmp___192.168.43.28_live_stream-.mp4: 512x640 (no detections), 11.4ms\n",
            "video 1/1 (347/501) /content/drive/MyDrive/vlc-record-2020-02-29-17h36m02s-rtmp___192.168.43.28_live_stream-.mp4: 512x640 (no detections), 12.9ms\n",
            "video 1/1 (348/501) /content/drive/MyDrive/vlc-record-2020-02-29-17h36m02s-rtmp___192.168.43.28_live_stream-.mp4: 512x640 (no detections), 13.7ms\n",
            "video 1/1 (349/501) /content/drive/MyDrive/vlc-record-2020-02-29-17h36m02s-rtmp___192.168.43.28_live_stream-.mp4: 512x640 (no detections), 11.3ms\n",
            "video 1/1 (350/501) /content/drive/MyDrive/vlc-record-2020-02-29-17h36m02s-rtmp___192.168.43.28_live_stream-.mp4: 512x640 (no detections), 10.7ms\n",
            "video 1/1 (351/501) /content/drive/MyDrive/vlc-record-2020-02-29-17h36m02s-rtmp___192.168.43.28_live_stream-.mp4: 512x640 (no detections), 13.8ms\n",
            "video 1/1 (352/501) /content/drive/MyDrive/vlc-record-2020-02-29-17h36m02s-rtmp___192.168.43.28_live_stream-.mp4: 512x640 (no detections), 13.9ms\n",
            "video 1/1 (353/501) /content/drive/MyDrive/vlc-record-2020-02-29-17h36m02s-rtmp___192.168.43.28_live_stream-.mp4: 512x640 (no detections), 13.4ms\n",
            "video 1/1 (354/501) /content/drive/MyDrive/vlc-record-2020-02-29-17h36m02s-rtmp___192.168.43.28_live_stream-.mp4: 512x640 (no detections), 13.7ms\n",
            "video 1/1 (355/501) /content/drive/MyDrive/vlc-record-2020-02-29-17h36m02s-rtmp___192.168.43.28_live_stream-.mp4: 512x640 (no detections), 11.0ms\n",
            "video 1/1 (356/501) /content/drive/MyDrive/vlc-record-2020-02-29-17h36m02s-rtmp___192.168.43.28_live_stream-.mp4: 512x640 (no detections), 10.3ms\n",
            "video 1/1 (357/501) /content/drive/MyDrive/vlc-record-2020-02-29-17h36m02s-rtmp___192.168.43.28_live_stream-.mp4: 512x640 (no detections), 10.3ms\n",
            "video 1/1 (358/501) /content/drive/MyDrive/vlc-record-2020-02-29-17h36m02s-rtmp___192.168.43.28_live_stream-.mp4: 512x640 (no detections), 10.3ms\n",
            "video 1/1 (359/501) /content/drive/MyDrive/vlc-record-2020-02-29-17h36m02s-rtmp___192.168.43.28_live_stream-.mp4: 512x640 (no detections), 10.4ms\n",
            "video 1/1 (360/501) /content/drive/MyDrive/vlc-record-2020-02-29-17h36m02s-rtmp___192.168.43.28_live_stream-.mp4: 512x640 (no detections), 10.4ms\n",
            "video 1/1 (361/501) /content/drive/MyDrive/vlc-record-2020-02-29-17h36m02s-rtmp___192.168.43.28_live_stream-.mp4: 512x640 (no detections), 10.3ms\n",
            "video 1/1 (362/501) /content/drive/MyDrive/vlc-record-2020-02-29-17h36m02s-rtmp___192.168.43.28_live_stream-.mp4: 512x640 (no detections), 10.3ms\n",
            "video 1/1 (363/501) /content/drive/MyDrive/vlc-record-2020-02-29-17h36m02s-rtmp___192.168.43.28_live_stream-.mp4: 512x640 (no detections), 10.3ms\n",
            "video 1/1 (364/501) /content/drive/MyDrive/vlc-record-2020-02-29-17h36m02s-rtmp___192.168.43.28_live_stream-.mp4: 512x640 (no detections), 11.1ms\n",
            "video 1/1 (365/501) /content/drive/MyDrive/vlc-record-2020-02-29-17h36m02s-rtmp___192.168.43.28_live_stream-.mp4: 512x640 (no detections), 10.3ms\n",
            "video 1/1 (366/501) /content/drive/MyDrive/vlc-record-2020-02-29-17h36m02s-rtmp___192.168.43.28_live_stream-.mp4: 512x640 (no detections), 12.2ms\n",
            "video 1/1 (367/501) /content/drive/MyDrive/vlc-record-2020-02-29-17h36m02s-rtmp___192.168.43.28_live_stream-.mp4: 512x640 (no detections), 12.9ms\n",
            "video 1/1 (368/501) /content/drive/MyDrive/vlc-record-2020-02-29-17h36m02s-rtmp___192.168.43.28_live_stream-.mp4: 512x640 (no detections), 9.2ms\n",
            "video 1/1 (369/501) /content/drive/MyDrive/vlc-record-2020-02-29-17h36m02s-rtmp___192.168.43.28_live_stream-.mp4: 512x640 (no detections), 9.2ms\n",
            "video 1/1 (370/501) /content/drive/MyDrive/vlc-record-2020-02-29-17h36m02s-rtmp___192.168.43.28_live_stream-.mp4: 512x640 (no detections), 9.2ms\n",
            "video 1/1 (371/501) /content/drive/MyDrive/vlc-record-2020-02-29-17h36m02s-rtmp___192.168.43.28_live_stream-.mp4: 512x640 (no detections), 9.2ms\n",
            "video 1/1 (372/501) /content/drive/MyDrive/vlc-record-2020-02-29-17h36m02s-rtmp___192.168.43.28_live_stream-.mp4: 512x640 (no detections), 13.2ms\n",
            "video 1/1 (373/501) /content/drive/MyDrive/vlc-record-2020-02-29-17h36m02s-rtmp___192.168.43.28_live_stream-.mp4: 512x640 (no detections), 9.4ms\n",
            "video 1/1 (374/501) /content/drive/MyDrive/vlc-record-2020-02-29-17h36m02s-rtmp___192.168.43.28_live_stream-.mp4: 512x640 (no detections), 9.2ms\n",
            "video 1/1 (375/501) /content/drive/MyDrive/vlc-record-2020-02-29-17h36m02s-rtmp___192.168.43.28_live_stream-.mp4: 512x640 (no detections), 9.6ms\n",
            "video 1/1 (376/501) /content/drive/MyDrive/vlc-record-2020-02-29-17h36m02s-rtmp___192.168.43.28_live_stream-.mp4: 512x640 (no detections), 9.2ms\n",
            "video 1/1 (377/501) /content/drive/MyDrive/vlc-record-2020-02-29-17h36m02s-rtmp___192.168.43.28_live_stream-.mp4: 512x640 (no detections), 9.6ms\n",
            "video 1/1 (378/501) /content/drive/MyDrive/vlc-record-2020-02-29-17h36m02s-rtmp___192.168.43.28_live_stream-.mp4: 512x640 (no detections), 9.1ms\n",
            "video 1/1 (379/501) /content/drive/MyDrive/vlc-record-2020-02-29-17h36m02s-rtmp___192.168.43.28_live_stream-.mp4: 512x640 (no detections), 9.3ms\n",
            "video 1/1 (380/501) /content/drive/MyDrive/vlc-record-2020-02-29-17h36m02s-rtmp___192.168.43.28_live_stream-.mp4: 512x640 1 car, 13.0ms\n",
            "video 1/1 (381/501) /content/drive/MyDrive/vlc-record-2020-02-29-17h36m02s-rtmp___192.168.43.28_live_stream-.mp4: 512x640 1 car, 13.5ms\n",
            "video 1/1 (382/501) /content/drive/MyDrive/vlc-record-2020-02-29-17h36m02s-rtmp___192.168.43.28_live_stream-.mp4: 512x640 (no detections), 9.0ms\n",
            "video 1/1 (383/501) /content/drive/MyDrive/vlc-record-2020-02-29-17h36m02s-rtmp___192.168.43.28_live_stream-.mp4: 512x640 (no detections), 9.0ms\n",
            "video 1/1 (384/501) /content/drive/MyDrive/vlc-record-2020-02-29-17h36m02s-rtmp___192.168.43.28_live_stream-.mp4: 512x640 (no detections), 9.0ms\n",
            "video 1/1 (385/501) /content/drive/MyDrive/vlc-record-2020-02-29-17h36m02s-rtmp___192.168.43.28_live_stream-.mp4: 512x640 (no detections), 9.2ms\n",
            "video 1/1 (386/501) /content/drive/MyDrive/vlc-record-2020-02-29-17h36m02s-rtmp___192.168.43.28_live_stream-.mp4: 512x640 (no detections), 8.9ms\n",
            "video 1/1 (387/501) /content/drive/MyDrive/vlc-record-2020-02-29-17h36m02s-rtmp___192.168.43.28_live_stream-.mp4: 512x640 (no detections), 8.9ms\n",
            "video 1/1 (388/501) /content/drive/MyDrive/vlc-record-2020-02-29-17h36m02s-rtmp___192.168.43.28_live_stream-.mp4: 512x640 (no detections), 8.9ms\n",
            "video 1/1 (389/501) /content/drive/MyDrive/vlc-record-2020-02-29-17h36m02s-rtmp___192.168.43.28_live_stream-.mp4: 512x640 (no detections), 8.9ms\n",
            "video 1/1 (390/501) /content/drive/MyDrive/vlc-record-2020-02-29-17h36m02s-rtmp___192.168.43.28_live_stream-.mp4: 512x640 (no detections), 9.2ms\n",
            "video 1/1 (391/501) /content/drive/MyDrive/vlc-record-2020-02-29-17h36m02s-rtmp___192.168.43.28_live_stream-.mp4: 512x640 (no detections), 9.3ms\n",
            "video 1/1 (392/501) /content/drive/MyDrive/vlc-record-2020-02-29-17h36m02s-rtmp___192.168.43.28_live_stream-.mp4: 512x640 (no detections), 8.9ms\n",
            "video 1/1 (393/501) /content/drive/MyDrive/vlc-record-2020-02-29-17h36m02s-rtmp___192.168.43.28_live_stream-.mp4: 512x640 (no detections), 8.9ms\n",
            "video 1/1 (394/501) /content/drive/MyDrive/vlc-record-2020-02-29-17h36m02s-rtmp___192.168.43.28_live_stream-.mp4: 512x640 (no detections), 8.8ms\n",
            "video 1/1 (395/501) /content/drive/MyDrive/vlc-record-2020-02-29-17h36m02s-rtmp___192.168.43.28_live_stream-.mp4: 512x640 (no detections), 9.6ms\n",
            "video 1/1 (396/501) /content/drive/MyDrive/vlc-record-2020-02-29-17h36m02s-rtmp___192.168.43.28_live_stream-.mp4: 512x640 (no detections), 8.6ms\n",
            "video 1/1 (397/501) /content/drive/MyDrive/vlc-record-2020-02-29-17h36m02s-rtmp___192.168.43.28_live_stream-.mp4: 512x640 (no detections), 9.0ms\n",
            "video 1/1 (398/501) /content/drive/MyDrive/vlc-record-2020-02-29-17h36m02s-rtmp___192.168.43.28_live_stream-.mp4: 512x640 (no detections), 8.5ms\n",
            "video 1/1 (399/501) /content/drive/MyDrive/vlc-record-2020-02-29-17h36m02s-rtmp___192.168.43.28_live_stream-.mp4: 512x640 (no detections), 8.5ms\n",
            "video 1/1 (400/501) /content/drive/MyDrive/vlc-record-2020-02-29-17h36m02s-rtmp___192.168.43.28_live_stream-.mp4: 512x640 (no detections), 8.5ms\n",
            "video 1/1 (401/501) /content/drive/MyDrive/vlc-record-2020-02-29-17h36m02s-rtmp___192.168.43.28_live_stream-.mp4: 512x640 (no detections), 8.8ms\n",
            "video 1/1 (402/501) /content/drive/MyDrive/vlc-record-2020-02-29-17h36m02s-rtmp___192.168.43.28_live_stream-.mp4: 512x640 (no detections), 8.6ms\n",
            "video 1/1 (403/501) /content/drive/MyDrive/vlc-record-2020-02-29-17h36m02s-rtmp___192.168.43.28_live_stream-.mp4: 512x640 (no detections), 8.6ms\n",
            "video 1/1 (404/501) /content/drive/MyDrive/vlc-record-2020-02-29-17h36m02s-rtmp___192.168.43.28_live_stream-.mp4: 512x640 (no detections), 8.5ms\n",
            "video 1/1 (405/501) /content/drive/MyDrive/vlc-record-2020-02-29-17h36m02s-rtmp___192.168.43.28_live_stream-.mp4: 512x640 (no detections), 8.4ms\n",
            "video 1/1 (406/501) /content/drive/MyDrive/vlc-record-2020-02-29-17h36m02s-rtmp___192.168.43.28_live_stream-.mp4: 512x640 (no detections), 8.2ms\n",
            "video 1/1 (407/501) /content/drive/MyDrive/vlc-record-2020-02-29-17h36m02s-rtmp___192.168.43.28_live_stream-.mp4: 512x640 (no detections), 9.9ms\n",
            "video 1/1 (408/501) /content/drive/MyDrive/vlc-record-2020-02-29-17h36m02s-rtmp___192.168.43.28_live_stream-.mp4: 512x640 (no detections), 8.2ms\n",
            "video 1/1 (409/501) /content/drive/MyDrive/vlc-record-2020-02-29-17h36m02s-rtmp___192.168.43.28_live_stream-.mp4: 512x640 (no detections), 8.3ms\n",
            "video 1/1 (410/501) /content/drive/MyDrive/vlc-record-2020-02-29-17h36m02s-rtmp___192.168.43.28_live_stream-.mp4: 512x640 (no detections), 11.0ms\n",
            "video 1/1 (411/501) /content/drive/MyDrive/vlc-record-2020-02-29-17h36m02s-rtmp___192.168.43.28_live_stream-.mp4: 512x640 (no detections), 8.2ms\n",
            "video 1/1 (412/501) /content/drive/MyDrive/vlc-record-2020-02-29-17h36m02s-rtmp___192.168.43.28_live_stream-.mp4: 512x640 (no detections), 8.4ms\n",
            "video 1/1 (413/501) /content/drive/MyDrive/vlc-record-2020-02-29-17h36m02s-rtmp___192.168.43.28_live_stream-.mp4: 512x640 (no detections), 8.3ms\n",
            "video 1/1 (414/501) /content/drive/MyDrive/vlc-record-2020-02-29-17h36m02s-rtmp___192.168.43.28_live_stream-.mp4: 512x640 (no detections), 8.2ms\n",
            "video 1/1 (415/501) /content/drive/MyDrive/vlc-record-2020-02-29-17h36m02s-rtmp___192.168.43.28_live_stream-.mp4: 512x640 (no detections), 8.5ms\n",
            "video 1/1 (416/501) /content/drive/MyDrive/vlc-record-2020-02-29-17h36m02s-rtmp___192.168.43.28_live_stream-.mp4: 512x640 (no detections), 8.3ms\n",
            "video 1/1 (417/501) /content/drive/MyDrive/vlc-record-2020-02-29-17h36m02s-rtmp___192.168.43.28_live_stream-.mp4: 512x640 (no detections), 8.1ms\n",
            "video 1/1 (418/501) /content/drive/MyDrive/vlc-record-2020-02-29-17h36m02s-rtmp___192.168.43.28_live_stream-.mp4: 512x640 (no detections), 8.1ms\n",
            "video 1/1 (419/501) /content/drive/MyDrive/vlc-record-2020-02-29-17h36m02s-rtmp___192.168.43.28_live_stream-.mp4: 512x640 (no detections), 8.1ms\n",
            "video 1/1 (420/501) /content/drive/MyDrive/vlc-record-2020-02-29-17h36m02s-rtmp___192.168.43.28_live_stream-.mp4: 512x640 (no detections), 8.8ms\n",
            "video 1/1 (421/501) /content/drive/MyDrive/vlc-record-2020-02-29-17h36m02s-rtmp___192.168.43.28_live_stream-.mp4: 512x640 (no detections), 8.1ms\n",
            "video 1/1 (422/501) /content/drive/MyDrive/vlc-record-2020-02-29-17h36m02s-rtmp___192.168.43.28_live_stream-.mp4: 512x640 (no detections), 8.1ms\n",
            "video 1/1 (423/501) /content/drive/MyDrive/vlc-record-2020-02-29-17h36m02s-rtmp___192.168.43.28_live_stream-.mp4: 512x640 (no detections), 8.0ms\n",
            "video 1/1 (424/501) /content/drive/MyDrive/vlc-record-2020-02-29-17h36m02s-rtmp___192.168.43.28_live_stream-.mp4: 512x640 (no detections), 8.3ms\n",
            "video 1/1 (425/501) /content/drive/MyDrive/vlc-record-2020-02-29-17h36m02s-rtmp___192.168.43.28_live_stream-.mp4: 512x640 (no detections), 12.6ms\n",
            "video 1/1 (426/501) /content/drive/MyDrive/vlc-record-2020-02-29-17h36m02s-rtmp___192.168.43.28_live_stream-.mp4: 512x640 (no detections), 8.5ms\n",
            "video 1/1 (427/501) /content/drive/MyDrive/vlc-record-2020-02-29-17h36m02s-rtmp___192.168.43.28_live_stream-.mp4: 512x640 (no detections), 7.8ms\n",
            "video 1/1 (428/501) /content/drive/MyDrive/vlc-record-2020-02-29-17h36m02s-rtmp___192.168.43.28_live_stream-.mp4: 512x640 (no detections), 7.9ms\n",
            "video 1/1 (429/501) /content/drive/MyDrive/vlc-record-2020-02-29-17h36m02s-rtmp___192.168.43.28_live_stream-.mp4: 512x640 (no detections), 8.3ms\n",
            "video 1/1 (430/501) /content/drive/MyDrive/vlc-record-2020-02-29-17h36m02s-rtmp___192.168.43.28_live_stream-.mp4: 512x640 (no detections), 11.5ms\n",
            "video 1/1 (431/501) /content/drive/MyDrive/vlc-record-2020-02-29-17h36m02s-rtmp___192.168.43.28_live_stream-.mp4: 512x640 (no detections), 7.7ms\n",
            "video 1/1 (432/501) /content/drive/MyDrive/vlc-record-2020-02-29-17h36m02s-rtmp___192.168.43.28_live_stream-.mp4: 512x640 1 rickshaw, 9.6ms\n",
            "video 1/1 (433/501) /content/drive/MyDrive/vlc-record-2020-02-29-17h36m02s-rtmp___192.168.43.28_live_stream-.mp4: 512x640 1 rickshaw, 7.8ms\n",
            "video 1/1 (434/501) /content/drive/MyDrive/vlc-record-2020-02-29-17h36m02s-rtmp___192.168.43.28_live_stream-.mp4: 512x640 1 rickshaw, 7.8ms\n",
            "video 1/1 (435/501) /content/drive/MyDrive/vlc-record-2020-02-29-17h36m02s-rtmp___192.168.43.28_live_stream-.mp4: 512x640 1 rickshaw, 8.8ms\n",
            "video 1/1 (436/501) /content/drive/MyDrive/vlc-record-2020-02-29-17h36m02s-rtmp___192.168.43.28_live_stream-.mp4: 512x640 1 rickshaw, 7.8ms\n",
            "video 1/1 (437/501) /content/drive/MyDrive/vlc-record-2020-02-29-17h36m02s-rtmp___192.168.43.28_live_stream-.mp4: 512x640 1 rickshaw, 8.1ms\n",
            "video 1/1 (438/501) /content/drive/MyDrive/vlc-record-2020-02-29-17h36m02s-rtmp___192.168.43.28_live_stream-.mp4: 512x640 1 rickshaw, 7.7ms\n",
            "video 1/1 (439/501) /content/drive/MyDrive/vlc-record-2020-02-29-17h36m02s-rtmp___192.168.43.28_live_stream-.mp4: 512x640 1 rickshaw, 8.5ms\n",
            "video 1/1 (440/501) /content/drive/MyDrive/vlc-record-2020-02-29-17h36m02s-rtmp___192.168.43.28_live_stream-.mp4: 512x640 1 rickshaw, 8.4ms\n",
            "video 1/1 (441/501) /content/drive/MyDrive/vlc-record-2020-02-29-17h36m02s-rtmp___192.168.43.28_live_stream-.mp4: 512x640 1 rickshaw, 8.4ms\n",
            "video 1/1 (442/501) /content/drive/MyDrive/vlc-record-2020-02-29-17h36m02s-rtmp___192.168.43.28_live_stream-.mp4: 512x640 1 rickshaw, 8.1ms\n",
            "video 1/1 (443/501) /content/drive/MyDrive/vlc-record-2020-02-29-17h36m02s-rtmp___192.168.43.28_live_stream-.mp4: 512x640 1 rickshaw, 12.3ms\n",
            "video 1/1 (444/501) /content/drive/MyDrive/vlc-record-2020-02-29-17h36m02s-rtmp___192.168.43.28_live_stream-.mp4: 512x640 1 car, 8.3ms\n",
            "video 1/1 (445/501) /content/drive/MyDrive/vlc-record-2020-02-29-17h36m02s-rtmp___192.168.43.28_live_stream-.mp4: 512x640 1 car, 7.8ms\n",
            "video 1/1 (446/501) /content/drive/MyDrive/vlc-record-2020-02-29-17h36m02s-rtmp___192.168.43.28_live_stream-.mp4: 512x640 1 car, 7.7ms\n",
            "video 1/1 (447/501) /content/drive/MyDrive/vlc-record-2020-02-29-17h36m02s-rtmp___192.168.43.28_live_stream-.mp4: 512x640 1 car, 8.0ms\n",
            "video 1/1 (448/501) /content/drive/MyDrive/vlc-record-2020-02-29-17h36m02s-rtmp___192.168.43.28_live_stream-.mp4: 512x640 1 car, 8.1ms\n",
            "video 1/1 (449/501) /content/drive/MyDrive/vlc-record-2020-02-29-17h36m02s-rtmp___192.168.43.28_live_stream-.mp4: 512x640 1 car, 7.7ms\n",
            "video 1/1 (450/501) /content/drive/MyDrive/vlc-record-2020-02-29-17h36m02s-rtmp___192.168.43.28_live_stream-.mp4: 512x640 1 car, 7.7ms\n",
            "video 1/1 (451/501) /content/drive/MyDrive/vlc-record-2020-02-29-17h36m02s-rtmp___192.168.43.28_live_stream-.mp4: 512x640 1 rickshaw, 8.1ms\n",
            "video 1/1 (452/501) /content/drive/MyDrive/vlc-record-2020-02-29-17h36m02s-rtmp___192.168.43.28_live_stream-.mp4: 512x640 1 rickshaw, 7.7ms\n",
            "video 1/1 (453/501) /content/drive/MyDrive/vlc-record-2020-02-29-17h36m02s-rtmp___192.168.43.28_live_stream-.mp4: 512x640 (no detections), 9.5ms\n",
            "video 1/1 (454/501) /content/drive/MyDrive/vlc-record-2020-02-29-17h36m02s-rtmp___192.168.43.28_live_stream-.mp4: 512x640 (no detections), 10.8ms\n",
            "video 1/1 (455/501) /content/drive/MyDrive/vlc-record-2020-02-29-17h36m02s-rtmp___192.168.43.28_live_stream-.mp4: 512x640 (no detections), 8.4ms\n",
            "video 1/1 (456/501) /content/drive/MyDrive/vlc-record-2020-02-29-17h36m02s-rtmp___192.168.43.28_live_stream-.mp4: 512x640 (no detections), 8.0ms\n",
            "video 1/1 (457/501) /content/drive/MyDrive/vlc-record-2020-02-29-17h36m02s-rtmp___192.168.43.28_live_stream-.mp4: 512x640 (no detections), 7.8ms\n",
            "video 1/1 (458/501) /content/drive/MyDrive/vlc-record-2020-02-29-17h36m02s-rtmp___192.168.43.28_live_stream-.mp4: 512x640 1 car, 8.1ms\n",
            "video 1/1 (459/501) /content/drive/MyDrive/vlc-record-2020-02-29-17h36m02s-rtmp___192.168.43.28_live_stream-.mp4: 512x640 (no detections), 7.9ms\n",
            "video 1/1 (460/501) /content/drive/MyDrive/vlc-record-2020-02-29-17h36m02s-rtmp___192.168.43.28_live_stream-.mp4: 512x640 (no detections), 9.7ms\n",
            "video 1/1 (461/501) /content/drive/MyDrive/vlc-record-2020-02-29-17h36m02s-rtmp___192.168.43.28_live_stream-.mp4: 512x640 (no detections), 7.9ms\n",
            "video 1/1 (462/501) /content/drive/MyDrive/vlc-record-2020-02-29-17h36m02s-rtmp___192.168.43.28_live_stream-.mp4: 512x640 (no detections), 7.9ms\n",
            "video 1/1 (463/501) /content/drive/MyDrive/vlc-record-2020-02-29-17h36m02s-rtmp___192.168.43.28_live_stream-.mp4: 512x640 (no detections), 8.6ms\n",
            "video 1/1 (464/501) /content/drive/MyDrive/vlc-record-2020-02-29-17h36m02s-rtmp___192.168.43.28_live_stream-.mp4: 512x640 (no detections), 8.4ms\n",
            "video 1/1 (465/501) /content/drive/MyDrive/vlc-record-2020-02-29-17h36m02s-rtmp___192.168.43.28_live_stream-.mp4: 512x640 (no detections), 8.0ms\n",
            "video 1/1 (466/501) /content/drive/MyDrive/vlc-record-2020-02-29-17h36m02s-rtmp___192.168.43.28_live_stream-.mp4: 512x640 (no detections), 7.7ms\n",
            "video 1/1 (467/501) /content/drive/MyDrive/vlc-record-2020-02-29-17h36m02s-rtmp___192.168.43.28_live_stream-.mp4: 512x640 (no detections), 7.5ms\n",
            "video 1/1 (468/501) /content/drive/MyDrive/vlc-record-2020-02-29-17h36m02s-rtmp___192.168.43.28_live_stream-.mp4: 512x640 (no detections), 7.7ms\n",
            "video 1/1 (469/501) /content/drive/MyDrive/vlc-record-2020-02-29-17h36m02s-rtmp___192.168.43.28_live_stream-.mp4: 512x640 (no detections), 12.3ms\n",
            "video 1/1 (470/501) /content/drive/MyDrive/vlc-record-2020-02-29-17h36m02s-rtmp___192.168.43.28_live_stream-.mp4: 512x640 (no detections), 7.6ms\n",
            "video 1/1 (471/501) /content/drive/MyDrive/vlc-record-2020-02-29-17h36m02s-rtmp___192.168.43.28_live_stream-.mp4: 512x640 (no detections), 7.8ms\n",
            "video 1/1 (472/501) /content/drive/MyDrive/vlc-record-2020-02-29-17h36m02s-rtmp___192.168.43.28_live_stream-.mp4: 512x640 (no detections), 8.0ms\n",
            "video 1/1 (473/501) /content/drive/MyDrive/vlc-record-2020-02-29-17h36m02s-rtmp___192.168.43.28_live_stream-.mp4: 512x640 (no detections), 7.5ms\n",
            "video 1/1 (474/501) /content/drive/MyDrive/vlc-record-2020-02-29-17h36m02s-rtmp___192.168.43.28_live_stream-.mp4: 512x640 (no detections), 8.2ms\n",
            "video 1/1 (475/501) /content/drive/MyDrive/vlc-record-2020-02-29-17h36m02s-rtmp___192.168.43.28_live_stream-.mp4: 512x640 (no detections), 7.6ms\n",
            "video 1/1 (476/501) /content/drive/MyDrive/vlc-record-2020-02-29-17h36m02s-rtmp___192.168.43.28_live_stream-.mp4: 512x640 (no detections), 8.0ms\n",
            "video 1/1 (477/501) /content/drive/MyDrive/vlc-record-2020-02-29-17h36m02s-rtmp___192.168.43.28_live_stream-.mp4: 512x640 (no detections), 7.6ms\n",
            "video 1/1 (478/501) /content/drive/MyDrive/vlc-record-2020-02-29-17h36m02s-rtmp___192.168.43.28_live_stream-.mp4: 512x640 (no detections), 7.7ms\n",
            "video 1/1 (479/501) /content/drive/MyDrive/vlc-record-2020-02-29-17h36m02s-rtmp___192.168.43.28_live_stream-.mp4: 512x640 (no detections), 8.3ms\n",
            "video 1/1 (480/501) /content/drive/MyDrive/vlc-record-2020-02-29-17h36m02s-rtmp___192.168.43.28_live_stream-.mp4: 512x640 (no detections), 12.2ms\n",
            "video 1/1 (481/501) /content/drive/MyDrive/vlc-record-2020-02-29-17h36m02s-rtmp___192.168.43.28_live_stream-.mp4: 512x640 1 car, 7.8ms\n",
            "video 1/1 (482/501) /content/drive/MyDrive/vlc-record-2020-02-29-17h36m02s-rtmp___192.168.43.28_live_stream-.mp4: 512x640 (no detections), 7.8ms\n",
            "video 1/1 (483/501) /content/drive/MyDrive/vlc-record-2020-02-29-17h36m02s-rtmp___192.168.43.28_live_stream-.mp4: 512x640 1 car, 7.6ms\n",
            "video 1/1 (484/501) /content/drive/MyDrive/vlc-record-2020-02-29-17h36m02s-rtmp___192.168.43.28_live_stream-.mp4: 512x640 (no detections), 11.2ms\n",
            "video 1/1 (485/501) /content/drive/MyDrive/vlc-record-2020-02-29-17h36m02s-rtmp___192.168.43.28_live_stream-.mp4: 512x640 (no detections), 7.9ms\n",
            "video 1/1 (486/501) /content/drive/MyDrive/vlc-record-2020-02-29-17h36m02s-rtmp___192.168.43.28_live_stream-.mp4: 512x640 (no detections), 8.0ms\n",
            "video 1/1 (487/501) /content/drive/MyDrive/vlc-record-2020-02-29-17h36m02s-rtmp___192.168.43.28_live_stream-.mp4: 512x640 1 car, 7.8ms\n",
            "video 1/1 (488/501) /content/drive/MyDrive/vlc-record-2020-02-29-17h36m02s-rtmp___192.168.43.28_live_stream-.mp4: 512x640 1 car, 8.2ms\n",
            "video 1/1 (489/501) /content/drive/MyDrive/vlc-record-2020-02-29-17h36m02s-rtmp___192.168.43.28_live_stream-.mp4: 512x640 (no detections), 8.9ms\n",
            "video 1/1 (490/501) /content/drive/MyDrive/vlc-record-2020-02-29-17h36m02s-rtmp___192.168.43.28_live_stream-.mp4: 512x640 (no detections), 7.7ms\n",
            "video 1/1 (491/501) /content/drive/MyDrive/vlc-record-2020-02-29-17h36m02s-rtmp___192.168.43.28_live_stream-.mp4: 512x640 (no detections), 7.8ms\n",
            "video 1/1 (492/501) /content/drive/MyDrive/vlc-record-2020-02-29-17h36m02s-rtmp___192.168.43.28_live_stream-.mp4: 512x640 (no detections), 7.7ms\n",
            "video 1/1 (493/501) /content/drive/MyDrive/vlc-record-2020-02-29-17h36m02s-rtmp___192.168.43.28_live_stream-.mp4: 512x640 (no detections), 7.8ms\n",
            "video 1/1 (494/501) /content/drive/MyDrive/vlc-record-2020-02-29-17h36m02s-rtmp___192.168.43.28_live_stream-.mp4: 512x640 (no detections), 8.6ms\n",
            "video 1/1 (495/501) /content/drive/MyDrive/vlc-record-2020-02-29-17h36m02s-rtmp___192.168.43.28_live_stream-.mp4: 512x640 (no detections), 8.0ms\n",
            "video 1/1 (496/501) /content/drive/MyDrive/vlc-record-2020-02-29-17h36m02s-rtmp___192.168.43.28_live_stream-.mp4: 512x640 (no detections), 8.0ms\n",
            "video 1/1 (497/501) /content/drive/MyDrive/vlc-record-2020-02-29-17h36m02s-rtmp___192.168.43.28_live_stream-.mp4: 512x640 (no detections), 8.8ms\n",
            "video 1/1 (498/501) /content/drive/MyDrive/vlc-record-2020-02-29-17h36m02s-rtmp___192.168.43.28_live_stream-.mp4: 512x640 (no detections), 8.0ms\n",
            "video 1/1 (499/501) /content/drive/MyDrive/vlc-record-2020-02-29-17h36m02s-rtmp___192.168.43.28_live_stream-.mp4: 512x640 (no detections), 12.6ms\n",
            "video 1/1 (500/501) /content/drive/MyDrive/vlc-record-2020-02-29-17h36m02s-rtmp___192.168.43.28_live_stream-.mp4: 512x640 (no detections), 8.4ms\n",
            "video 1/1 (501/501) /content/drive/MyDrive/vlc-record-2020-02-29-17h36m02s-rtmp___192.168.43.28_live_stream-.mp4: 512x640 (no detections), 8.1ms\n",
            "Speed: 0.5ms pre-process, 9.7ms inference, 0.4ms NMS per image at shape (1, 3, 640, 640)\n",
            "Results saved to \u001b[1mruns/detect/exp3\u001b[0m\n"
          ]
        }
      ]
    },
    {
      "cell_type": "code",
      "source": [],
      "metadata": {
        "id": "-A3ExQvDKKle"
      },
      "execution_count": null,
      "outputs": []
    }
  ],
  "metadata": {
    "accelerator": "GPU",
    "colab": {
      "provenance": []
    },
    "kernelspec": {
      "display_name": "Python 3",
      "name": "python3"
    },
    "language_info": {
      "name": "python"
    }
  },
  "nbformat": 4,
  "nbformat_minor": 0
}